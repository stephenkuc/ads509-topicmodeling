{
 "cells": [
  {
   "cell_type": "markdown",
   "id": "bce2bb89",
   "metadata": {},
   "source": [
    "# ADS 509 Assignment 5.1: Topic Modeling\n",
    "\n",
    "## Stephen Kuc\n",
    "\n",
    "This notebook holds Assignment 5.1 for Module 5 in ADS 509, Applied Text Mining. Work through this notebook, writing code and answering questions where required. \n",
    "\n",
    "In this assignment you will work with a categorical corpus that accompanies `nltk`. You will build the three types of topic models described in Chapter 8 of _Blueprints for Text Analytics using Python_: NMF, LSA, and LDA. You will compare these models to the true categories. \n"
   ]
  },
  {
   "cell_type": "markdown",
   "id": "d87e2c06",
   "metadata": {},
   "source": [
    "## General Assignment Instructions\n",
    "\n",
    "These instructions are included in every assignment, to remind you of the coding standards for the class. Feel free to delete this cell after reading it. \n",
    "\n",
    "One sign of mature code is conforming to a style guide. We recommend the [Google Python Style Guide](https://google.github.io/styleguide/pyguide.html). If you use a different style guide, please include a cell with a link. \n",
    "\n",
    "Your code should be relatively easy-to-read, sensibly commented, and clean. Writing code is a messy process, so please be sure to edit your final submission. Remove any cells that are not needed or parts of cells that contain unnecessary code. Remove inessential `import` statements and make sure that all such statements are moved into the designated cell. \n",
    "\n",
    "Make use of non-code cells for written commentary. These cells should be grammatical and clearly written. In some of these cells you will have questions to answer. The questions will be marked by a \"Q:\" and will have a corresponding \"A:\" spot for you. *Make sure to answer every question marked with a `Q:` for full credit.* \n"
   ]
  },
  {
   "cell_type": "code",
   "execution_count": 227,
   "id": "a85bce08",
   "metadata": {},
   "outputs": [],
   "source": [
    "# These libraries may be useful to you\n",
    "\n",
    "from nltk.corpus import brown\n",
    "\n",
    "import numpy as np\n",
    "import pandas as pd\n",
    "from tqdm.auto import tqdm\n",
    "\n",
    "import pyLDAvis\n",
    "import pyLDAvis.sklearn\n",
    "import pyLDAvis.gensim_models\n",
    "\n",
    "import spacy\n",
    "from sklearn.feature_extraction.text import TfidfVectorizer, CountVectorizer\n",
    "from sklearn.decomposition import NMF, TruncatedSVD, LatentDirichletAllocation\n",
    "\n",
    "from spacy.lang.en.stop_words import STOP_WORDS as stopwords\n",
    "\n",
    "from collections import Counter, defaultdict\n",
    "\n",
    "nlp = spacy.load(\"en_core_web_sm\")"
   ]
  },
  {
   "cell_type": "code",
   "execution_count": 228,
   "id": "a218df60",
   "metadata": {},
   "outputs": [],
   "source": [
    "# add any additional libaries you need here\n",
    "\n",
    "import nltk\n",
    "from nltk.tokenize import word_tokenize"
   ]
  },
  {
   "cell_type": "code",
   "execution_count": 229,
   "id": "494de237",
   "metadata": {},
   "outputs": [],
   "source": [
    "# This function comes from the BTAP repo.\n",
    "\n",
    "def display_topics(model, features, no_top_words=5):\n",
    "    for topic, words in enumerate(model.components_):\n",
    "        total = words.sum()\n",
    "        largest = words.argsort()[::-1] # invert sort order\n",
    "        print(\"\\nTopic %02d\" % topic)\n",
    "        for i in range(0, no_top_words):\n",
    "            print(\"  %s (%2.2f)\" % (features[largest[i]], abs(words[largest[i]]*100.0/total)))"
   ]
  },
  {
   "cell_type": "markdown",
   "id": "a30a901c",
   "metadata": {},
   "source": [
    "## Getting to Know the Brown Corpus\n",
    "\n",
    "Let's spend a bit of time getting to know what's in the Brown corpus, our NLTK example of an \"overlapping\" corpus."
   ]
  },
  {
   "cell_type": "code",
   "execution_count": 230,
   "id": "457c59ed",
   "metadata": {},
   "outputs": [
    {
     "name": "stdout",
     "output_type": "stream",
     "text": [
      "For adventure we have 29 articles.\n",
      "For belles_lettres we have 75 articles.\n",
      "For editorial we have 27 articles.\n",
      "For fiction we have 29 articles.\n",
      "For government we have 30 articles.\n",
      "For hobbies we have 36 articles.\n",
      "For humor we have 9 articles.\n",
      "For learned we have 80 articles.\n",
      "For lore we have 48 articles.\n",
      "For mystery we have 24 articles.\n",
      "For news we have 44 articles.\n",
      "For religion we have 17 articles.\n",
      "For reviews we have 17 articles.\n",
      "For romance we have 29 articles.\n",
      "For science_fiction we have 6 articles.\n"
     ]
    }
   ],
   "source": [
    "# categories of articles in Brown corpus\n",
    "for category in brown.categories() :\n",
    "    print(f\"For {category} we have {len(brown.fileids(categories=category))} articles.\")"
   ]
  },
  {
   "cell_type": "markdown",
   "id": "23fb133c",
   "metadata": {},
   "source": [
    "Let's create a dataframe of the articles in of hobbies, editorial, government, news, and romance."
   ]
  },
  {
   "cell_type": "code",
   "execution_count": 231,
   "id": "18f50b9d",
   "metadata": {},
   "outputs": [
    {
     "data": {
      "text/plain": [
       "(166, 3)"
      ]
     },
     "execution_count": 231,
     "metadata": {},
     "output_type": "execute_result"
    }
   ],
   "source": [
    "categories = ['editorial','government','news','romance','hobbies'] \n",
    "\n",
    "category_list = []\n",
    "file_ids = []\n",
    "texts = []\n",
    "\n",
    "for category in categories : \n",
    "    for file_id in brown.fileids(categories=category) :\n",
    "        \n",
    "        # build some lists for a dataframe\n",
    "        category_list.append(category)\n",
    "        file_ids.append(file_id)\n",
    "        \n",
    "        text = brown.words(fileids=file_id)\n",
    "        texts.append(\" \".join(text))\n",
    "\n",
    "        \n",
    "        \n",
    "df = pd.DataFrame()\n",
    "df['category'] = category_list\n",
    "df['id'] = file_ids\n",
    "df['text'] = texts \n",
    "\n",
    "df.shape"
   ]
  },
  {
   "cell_type": "code",
   "execution_count": 232,
   "id": "586f47de",
   "metadata": {},
   "outputs": [],
   "source": [
    "# Let's add some helpful columns on the df\n",
    "df['char_len'] = df['text'].apply(len)\n",
    "df['word_len'] = df['text'].apply(lambda x: len(x.split()))\n"
   ]
  },
  {
   "cell_type": "code",
   "execution_count": 233,
   "id": "4a9a0601",
   "metadata": {},
   "outputs": [
    {
     "data": {
      "text/html": [
       "<div>\n",
       "<style scoped>\n",
       "    .dataframe tbody tr th:only-of-type {\n",
       "        vertical-align: middle;\n",
       "    }\n",
       "\n",
       "    .dataframe tbody tr th {\n",
       "        vertical-align: top;\n",
       "    }\n",
       "\n",
       "    .dataframe thead th {\n",
       "        text-align: right;\n",
       "    }\n",
       "</style>\n",
       "<table border=\"1\" class=\"dataframe\">\n",
       "  <thead>\n",
       "    <tr style=\"text-align: right;\">\n",
       "      <th></th>\n",
       "      <th>category</th>\n",
       "      <th>id</th>\n",
       "      <th>text</th>\n",
       "      <th>char_len</th>\n",
       "      <th>word_len</th>\n",
       "    </tr>\n",
       "  </thead>\n",
       "  <tbody>\n",
       "    <tr>\n",
       "      <th>75</th>\n",
       "      <td>news</td>\n",
       "      <td>ca19</td>\n",
       "      <td>The Baltimore and Ohio Railroad announced yest...</td>\n",
       "      <td>12400</td>\n",
       "      <td>2260</td>\n",
       "    </tr>\n",
       "    <tr>\n",
       "      <th>107</th>\n",
       "      <td>romance</td>\n",
       "      <td>cp07</td>\n",
       "      <td>Spencer said nothing . `` Is there any word yo...</td>\n",
       "      <td>11943</td>\n",
       "      <td>2385</td>\n",
       "    </tr>\n",
       "    <tr>\n",
       "      <th>35</th>\n",
       "      <td>government</td>\n",
       "      <td>ch09</td>\n",
       "      <td>Be it enacted by the Senate and House of Repre...</td>\n",
       "      <td>13456</td>\n",
       "      <td>2451</td>\n",
       "    </tr>\n",
       "    <tr>\n",
       "      <th>44</th>\n",
       "      <td>government</td>\n",
       "      <td>ch18</td>\n",
       "      <td>Foreign policy in its total context With this ...</td>\n",
       "      <td>12237</td>\n",
       "      <td>2250</td>\n",
       "    </tr>\n",
       "    <tr>\n",
       "      <th>19</th>\n",
       "      <td>editorial</td>\n",
       "      <td>cb20</td>\n",
       "      <td>Escalation unto death The nuclear war is alrea...</td>\n",
       "      <td>12228</td>\n",
       "      <td>2299</td>\n",
       "    </tr>\n",
       "  </tbody>\n",
       "</table>\n",
       "</div>"
      ],
      "text/plain": [
       "       category    id                                               text  \\\n",
       "75         news  ca19  The Baltimore and Ohio Railroad announced yest...   \n",
       "107     romance  cp07  Spencer said nothing . `` Is there any word yo...   \n",
       "35   government  ch09  Be it enacted by the Senate and House of Repre...   \n",
       "44   government  ch18  Foreign policy in its total context With this ...   \n",
       "19    editorial  cb20  Escalation unto death The nuclear war is alrea...   \n",
       "\n",
       "     char_len  word_len  \n",
       "75      12400      2260  \n",
       "107     11943      2385  \n",
       "35      13456      2451  \n",
       "44      12237      2250  \n",
       "19      12228      2299  "
      ]
     },
     "execution_count": 233,
     "metadata": {},
     "output_type": "execute_result"
    }
   ],
   "source": [
    "df.sample(5)"
   ]
  },
  {
   "cell_type": "code",
   "execution_count": 234,
   "id": "2128fd2d",
   "metadata": {},
   "outputs": [
    {
     "data": {
      "text/plain": [
       "<AxesSubplot:xlabel='category'>"
      ]
     },
     "execution_count": 234,
     "metadata": {},
     "output_type": "execute_result"
    },
    {
     "data": {
      "image/png": "[encoded data removed]",
      "text/plain": [
       "<Figure size 720x432 with 1 Axes>"
      ]
     },
     "metadata": {
      "needs_background": "light"
     },
     "output_type": "display_data"
    }
   ],
   "source": [
    "%matplotlib inline\n",
    "df.groupby('category').agg({'word_len': 'mean'}).plot.bar(figsize=(10,6))"
   ]
  },
  {
   "cell_type": "markdown",
   "id": "554ffeb5",
   "metadata": {},
   "source": [
    "Now do our TF-IDF and Count vectorizations."
   ]
  },
  {
   "cell_type": "code",
   "execution_count": 235,
   "id": "21a7d247",
   "metadata": {},
   "outputs": [
    {
     "name": "stderr",
     "output_type": "stream",
     "text": [
      "C:\\Users\\steph\\miniconda3\\lib\\site-packages\\sklearn\\feature_extraction\\text.py:404: UserWarning: Your stop_words may be inconsistent with your preprocessing. Tokenizing the stop words generated tokens ['ll', 've'] not in stop_words.\n",
      "  warnings.warn(\n"
     ]
    },
    {
     "data": {
      "text/plain": [
       "(166, 4941)"
      ]
     },
     "execution_count": 235,
     "metadata": {},
     "output_type": "execute_result"
    }
   ],
   "source": [
    "count_text_vectorizer = CountVectorizer(stop_words=stopwords, min_df=5, max_df=0.7)\n",
    "count_text_vectors = count_text_vectorizer.fit_transform(df[\"text\"])\n",
    "count_text_vectors.shape"
   ]
  },
  {
   "cell_type": "code",
   "execution_count": 236,
   "id": "1187ac73",
   "metadata": {},
   "outputs": [
    {
     "data": {
      "text/plain": [
       "<166x4941 sparse matrix of type '<class 'numpy.int64'>'\n",
       "\twith 72541 stored elements in Compressed Sparse Row format>"
      ]
     },
     "execution_count": 236,
     "metadata": {},
     "output_type": "execute_result"
    }
   ],
   "source": [
    "count_text_vectors"
   ]
  },
  {
   "cell_type": "code",
   "execution_count": 237,
   "id": "875deba9",
   "metadata": {},
   "outputs": [
    {
     "data": {
      "text/plain": [
       "(166, 4941)"
      ]
     },
     "execution_count": 237,
     "metadata": {},
     "output_type": "execute_result"
    }
   ],
   "source": [
    "tfidf_text_vectorizer = TfidfVectorizer(stop_words=stopwords, min_df=5, max_df=0.7)\n",
    "tfidf_text_vectors = tfidf_text_vectorizer.fit_transform(df['text'])\n",
    "tfidf_text_vectors.shape"
   ]
  },
  {
   "cell_type": "markdown",
   "id": "a1062b21",
   "metadata": {},
   "source": [
    "### Q: What do the two data frames `count_text_vectors` and `tfidf_text_vectors` hold? \n",
    "\n",
    "A: `count_text_vectors` holds a sparse matrix of token counts, of tokens with at least 5 occurences and no more than 70% of a document frequency, and no stopwords. \n",
    "\n",
    "`tfidf_text_vectors` holds a term frequency-inverse document frequency (TF-IDF) matrix. Instead of giving the raw numbers as the count_text_vectors matrix does, it finds how relevant a word is to a document. Essentially, its the product of how many times a word appears in a document and the invese document frequency of the word across a set of documents. The tokens are under the same min-max conditions as the previous matrix. "
   ]
  },
  {
   "cell_type": "markdown",
   "id": "f77c3f94",
   "metadata": {},
   "source": [
    "## Fitting a Non-Negative Matrix Factorization Model\n",
    "\n",
    "In this section the code to fit a five-topic NMF model has already been written. This code comes directly from the [BTAP repo](https://github.com/blueprints-for-text-analytics-python/blueprints-text), which will help you tremendously in the coming sections. "
   ]
  },
  {
   "cell_type": "code",
   "execution_count": 238,
   "id": "d28745a3",
   "metadata": {},
   "outputs": [],
   "source": [
    "nmf_text_model = NMF(n_components=5, random_state=314)\n",
    "W_text_matrix = nmf_text_model.fit_transform(tfidf_text_vectors)\n",
    "H_text_matrix = nmf_text_model.components_"
   ]
  },
  {
   "cell_type": "code",
   "execution_count": 239,
   "id": "eb077157",
   "metadata": {},
   "outputs": [
    {
     "data": {
      "text/plain": [
       "(166, 5)"
      ]
     },
     "execution_count": 239,
     "metadata": {},
     "output_type": "execute_result"
    }
   ],
   "source": [
    "W_text_matrix.shape"
   ]
  },
  {
   "cell_type": "code",
   "execution_count": 240,
   "id": "a67185e7",
   "metadata": {},
   "outputs": [
    {
     "name": "stdout",
     "output_type": "stream",
     "text": [
      "\n",
      "Topic 00\n",
      "  mr (0.51)\n",
      "  president (0.45)\n",
      "  kennedy (0.43)\n",
      "  united (0.42)\n",
      "  khrushchev (0.40)\n",
      "\n",
      "Topic 01\n",
      "  said (0.88)\n",
      "  didn (0.46)\n",
      "  ll (0.45)\n",
      "  thought (0.42)\n",
      "  man (0.37)\n",
      "\n",
      "Topic 02\n",
      "  state (0.39)\n",
      "  development (0.36)\n",
      "  tax (0.33)\n",
      "  sales (0.30)\n",
      "  program (0.25)\n",
      "\n",
      "Topic 03\n",
      "  mrs (2.61)\n",
      "  mr (0.78)\n",
      "  said (0.63)\n",
      "  miss (0.52)\n",
      "  car (0.51)\n",
      "\n",
      "Topic 04\n",
      "  game (1.02)\n",
      "  league (0.74)\n",
      "  ball (0.72)\n",
      "  baseball (0.71)\n",
      "  team (0.66)\n"
     ]
    }
   ],
   "source": [
    "display_topics(nmf_text_model, tfidf_text_vectorizer.get_feature_names_out())"
   ]
  },
  {
   "cell_type": "code",
   "execution_count": 242,
   "id": "72ba8381",
   "metadata": {},
   "outputs": [
    {
     "data": {
      "text/plain": [
       "array([18.20216354, 25.88744413, 29.5696224 , 14.29955027, 12.04121966])"
      ]
     },
     "execution_count": 242,
     "metadata": {},
     "output_type": "execute_result"
    }
   ],
   "source": [
    "# normalizing these topics and multiplying by 100 to see a percentage value of each topic\n",
    "# IE finding how 'big' the topics are\n",
    "# and how many documents can be assigned to each topic\n",
    "\n",
    "W_text_matrix.sum(axis=0) / W_text_matrix.sum()*100"
   ]
  },
  {
   "cell_type": "markdown",
   "id": "cfb94915",
   "metadata": {},
   "source": [
    "It appears there is a somewhat even spread among topics, however, the 5th topic is very low comparitive to the rest. When looking at the initial graph for size of each category, they seemed much more even than they are here, which may point to signs of the topics not being very accurate.\n",
    "\n",
    "Below is the top term for each topic as well as what the topic seems to encapsulate:\n",
    "\n",
    "mr - topic1 - politics\n",
    "said - topic2 - thoughts/actions\n",
    "state - topic3 - government\n",
    "mrs - topic4 - people\n",
    "game - topic5 - sports"
   ]
  },
  {
   "cell_type": "markdown",
   "id": "fee51e9b",
   "metadata": {},
   "source": [
    "Now some work for you to do. Compare the NMF factorization to the original categories from the Brown Corpus.\n",
    "\n",
    "We are interested in the extent to which our NMF factorization agrees or disagrees with the original categories in the corpus. For each topic in your NMF model, tally the Brown categories and interpret the results. \n"
   ]
  },
  {
   "cell_type": "code",
   "execution_count": 243,
   "id": "75224871",
   "metadata": {},
   "outputs": [],
   "source": [
    "# adding in function to get an array of each topic\n",
    "\n",
    "def get_topics_terms_weights(weights, feature_names):\n",
    "    feature_names = np.array(feature_names)\n",
    "    sorted_indices = np.array([list(row[::-1]) \n",
    "                           for row \n",
    "                           in np.argsort(np.abs(weights))])\n",
    "    sorted_weights = np.array([list(wt[index]) \n",
    "                               for wt, index \n",
    "                               in zip(weights,sorted_indices)])\n",
    "    sorted_terms = np.array([list(feature_names[row]) \n",
    "                             for row \n",
    "                             in sorted_indices])\n",
    "    \n",
    "    topics = [np.vstack((terms.T, \n",
    "                     term_weights.T)).T \n",
    "              for terms, term_weights \n",
    "              in zip(sorted_terms, sorted_weights)]     \n",
    "    return topics"
   ]
  },
  {
   "cell_type": "code",
   "execution_count": 245,
   "id": "29f9f314",
   "metadata": {},
   "outputs": [],
   "source": [
    "feat_names = tfidf_text_vectorizer.get_feature_names_out()\n",
    "weights_nmf = H_text_matrix\n",
    "\n",
    "nmf_topics = []\n",
    "\n",
    "topics = get_topics_terms_weights(weights_nmf, feat_names)\n",
    "\n",
    "for row in range(len(df['text'])):\n",
    "    nmf_topics.append(topics[np.argmax(W_text_matrix[row])][0][0])\n",
    "    \n",
    "df['nmf_topics'] = nmf_topics"
   ]
  },
  {
   "cell_type": "code",
   "execution_count": 247,
   "id": "2357ff33",
   "metadata": {},
   "outputs": [
    {
     "data": {
      "text/html": [
       "<div>\n",
       "<style scoped>\n",
       "    .dataframe tbody tr th:only-of-type {\n",
       "        vertical-align: middle;\n",
       "    }\n",
       "\n",
       "    .dataframe tbody tr th {\n",
       "        vertical-align: top;\n",
       "    }\n",
       "\n",
       "    .dataframe thead th {\n",
       "        text-align: right;\n",
       "    }\n",
       "</style>\n",
       "<table border=\"1\" class=\"dataframe\">\n",
       "  <thead>\n",
       "    <tr style=\"text-align: right;\">\n",
       "      <th></th>\n",
       "      <th>category</th>\n",
       "      <th>id</th>\n",
       "      <th>text</th>\n",
       "      <th>char_len</th>\n",
       "      <th>word_len</th>\n",
       "      <th>nmf_topics</th>\n",
       "    </tr>\n",
       "  </thead>\n",
       "  <tbody>\n",
       "    <tr>\n",
       "      <th>0</th>\n",
       "      <td>editorial</td>\n",
       "      <td>cb01</td>\n",
       "      <td>Assembly session brought much good The General...</td>\n",
       "      <td>12659</td>\n",
       "      <td>2200</td>\n",
       "      <td>state</td>\n",
       "    </tr>\n",
       "    <tr>\n",
       "      <th>1</th>\n",
       "      <td>editorial</td>\n",
       "      <td>cb02</td>\n",
       "      <td>Must Berlin remain divided ? ? The inference h...</td>\n",
       "      <td>12544</td>\n",
       "      <td>2234</td>\n",
       "      <td>mr</td>\n",
       "    </tr>\n",
       "    <tr>\n",
       "      <th>2</th>\n",
       "      <td>editorial</td>\n",
       "      <td>cb03</td>\n",
       "      <td>A good man departs . Goodby , Mr. Sam . Sam Ra...</td>\n",
       "      <td>11871</td>\n",
       "      <td>2244</td>\n",
       "      <td>mr</td>\n",
       "    </tr>\n",
       "    <tr>\n",
       "      <th>3</th>\n",
       "      <td>editorial</td>\n",
       "      <td>cb04</td>\n",
       "      <td>A shock wave from Africa Word of Dag Hammarskj...</td>\n",
       "      <td>12284</td>\n",
       "      <td>2230</td>\n",
       "      <td>mr</td>\n",
       "    </tr>\n",
       "    <tr>\n",
       "      <th>4</th>\n",
       "      <td>editorial</td>\n",
       "      <td>cb05</td>\n",
       "      <td>Help when needed If the Dominican Republic ach...</td>\n",
       "      <td>12479</td>\n",
       "      <td>2241</td>\n",
       "      <td>mr</td>\n",
       "    </tr>\n",
       "  </tbody>\n",
       "</table>\n",
       "</div>"
      ],
      "text/plain": [
       "    category    id                                               text  \\\n",
       "0  editorial  cb01  Assembly session brought much good The General...   \n",
       "1  editorial  cb02  Must Berlin remain divided ? ? The inference h...   \n",
       "2  editorial  cb03  A good man departs . Goodby , Mr. Sam . Sam Ra...   \n",
       "3  editorial  cb04  A shock wave from Africa Word of Dag Hammarskj...   \n",
       "4  editorial  cb05  Help when needed If the Dominican Republic ach...   \n",
       "\n",
       "   char_len  word_len nmf_topics  \n",
       "0     12659      2200      state  \n",
       "1     12544      2234         mr  \n",
       "2     11871      2244         mr  \n",
       "3     12284      2230         mr  \n",
       "4     12479      2241         mr  "
      ]
     },
     "execution_count": 247,
     "metadata": {},
     "output_type": "execute_result"
    }
   ],
   "source": [
    "df.head()"
   ]
  },
  {
   "cell_type": "code",
   "execution_count": 254,
   "id": "41a61afb",
   "metadata": {},
   "outputs": [],
   "source": [
    "# this doesn't quite give the topic name; but the top word per topic\n",
    "# let's assign each word its correct topic\n",
    "\n",
    "# mr - topic1 - politics\n",
    "# said - topic2 - thoughts/actions\n",
    "# state - topic3 - government\n",
    "# mrs - topic4 - people\n",
    "# game - topic5 - sports\n",
    "\n",
    "df.loc[df['nmf_topics'] == \"mr\", \"nmf_topics\"] = \"t1_politics\"\n",
    "df.loc[df['nmf_topics'] == \"said\", \"nmf_topics\"] = \"t2_thoughts\"\n",
    "df.loc[df['nmf_topics'] == \"state\", \"nmf_topics\"] = \"t3_govt\"\n",
    "df.loc[df['nmf_topics'] == \"mrs\", \"nmf_topics\"] = \"t4_people\"\n",
    "df.loc[df['nmf_topics'] == \"game\", \"nmf_topics\"] = \"t5_sports\"\n"
   ]
  },
  {
   "cell_type": "code",
   "execution_count": 263,
   "id": "92868983",
   "metadata": {},
   "outputs": [
    {
     "data": {
      "text/plain": [
       "<AxesSubplot:xlabel='category', ylabel='nmf_topics'>"
      ]
     },
     "execution_count": 263,
     "metadata": {},
     "output_type": "execute_result"
    },
    {
     "data": {
      "image/png": "[encoded data removed]",
      "text/plain": [
       "<Figure size 432x288 with 1 Axes>"
      ]
     },
     "metadata": {
      "needs_background": "light"
     },
     "output_type": "display_data"
    }
   ],
   "source": [
    "# viewing just nmf_topics and its corresponding topic via nmf_topics\n",
    "\n",
    "import seaborn as sns\n",
    "\n",
    "sns.histplot(binwidth = 1, x = \"category\", y = \"nmf_topics\", data = df, stat = \"count\", multiple = \"dodge\")"
   ]
  },
  {
   "cell_type": "markdown",
   "id": "f8d4e2bc",
   "metadata": {},
   "source": [
    "### Q: How does your five-topic NMF model compare to the original Brown categories? \n",
    "\n",
    "A: For most of the categories -- like editorial, news, and hobbies -- they were spread among 4 different topics. News seems to be the most spread out as they hit derived topics like 'politics', 'sports', 'people' and 'govt', which makes sense for News to be spread among those things. \n",
    "\n",
    "Romance seems to be firmly in the 'thoughts' topic, which seems to be interpersonal thoughts and conversations, and this makes sense. Government is, of course, split between the two government-like derived topics -- 'politics' and 'govt'. \n",
    "\n",
    "Overall, the five-topic NMF model doesn't do a bad job, but not very good, either. It would be nice to have the politics and gov't words be in just one topic of their own."
   ]
  },
  {
   "cell_type": "markdown",
   "id": "82e37cb5",
   "metadata": {},
   "source": [
    "## Fitting an LSA Model\n",
    "\n",
    "In this section, follow the example from the repository and fit an LSA model (called a \"TruncatedSVD\" in `sklearn`). Again fit a five-topic model and compare it to the actual categories in the Brown corpus. Use the TF-IDF vectors for your fit, as above. \n",
    "\n",
    "To be explicit, we are once again interested in the extent to which this LSA factorization agrees or disagrees with the original categories in the corpus. For each topic in your model, tally the Brown categories and interpret the results. \n"
   ]
  },
  {
   "cell_type": "code",
   "execution_count": 307,
   "id": "00b53d3d",
   "metadata": {},
   "outputs": [],
   "source": [
    "svd_model = TruncatedSVD(n_components = 5, random_state=42)\n",
    "W_svd_matrix = svd_model.fit_transform(tfidf_text_vectors)\n",
    "H_svd_matrix = svd_model.components_"
   ]
  },
  {
   "cell_type": "code",
   "execution_count": 308,
   "id": "377a886e",
   "metadata": {},
   "outputs": [
    {
     "name": "stdout",
     "output_type": "stream",
     "text": [
      "\n",
      "Topic 00\n",
      "  said (0.44)\n",
      "  mr (0.25)\n",
      "  mrs (0.22)\n",
      "  state (0.20)\n",
      "  man (0.17)\n",
      "\n",
      "Topic 01\n",
      "  said (3.89)\n",
      "  ll (2.73)\n",
      "  didn (2.63)\n",
      "  thought (2.20)\n",
      "  got (1.97)\n",
      "\n",
      "Topic 02\n",
      "  mrs (3.14)\n",
      "  mr (1.73)\n",
      "  said (1.05)\n",
      "  kennedy (0.81)\n",
      "  president (0.77)\n",
      "\n",
      "Topic 03\n",
      "  mrs (30.38)\n",
      "  club (6.70)\n",
      "  game (6.40)\n",
      "  jr (5.81)\n",
      "  dallas (5.50)\n",
      "\n",
      "Topic 04\n",
      "  game (4.33)\n",
      "  league (3.09)\n",
      "  baseball (3.06)\n",
      "  ball (2.94)\n",
      "  team (2.81)\n"
     ]
    }
   ],
   "source": [
    "display_topics(svd_model, tfidf_text_vectorizer.get_feature_names_out())"
   ]
  },
  {
   "cell_type": "markdown",
   "id": "4501b150",
   "metadata": {},
   "source": [
    "First, there is a lot of overlap between these. If we do the same method as with NMF, there will be duplicates for different topics if we go with first or second highest word; thus, we will go with the third highest. Below is that term, corresponding topic, and what the topic seems to summarize.\n",
    "\n",
    "Topic1 - mrs - speaking/govt (this one is tought to make sense of)\n",
    "\n",
    "Topic2 - didn - thoughts\n",
    "\n",
    "topic3 - said - politics\n",
    "\n",
    "topic4 - game - fun\n",
    "\n",
    "topic5 - baseball - sports"
   ]
  },
  {
   "cell_type": "code",
   "execution_count": null,
   "id": "b74611d0",
   "metadata": {},
   "outputs": [],
   "source": [
    "feat_names = tfidf_text_vectorizer.get_feature_names_out()\n",
    "weights_nmf = H_text_matrix\n",
    "\n",
    "nmf_topics = []\n",
    "\n",
    "topics = get_topics_terms_weights(weights_nmf, feat_names)\n",
    "\n",
    "for row in range(len(df['text'])):\n",
    "    nmf_topics.append(topics[np.argmax(W_text_matrix[row])][0][0])\n",
    "    \n",
    "df['nmf_topics'] = nmf_topics"
   ]
  },
  {
   "cell_type": "code",
   "execution_count": 350,
   "id": "6a4c01b6",
   "metadata": {},
   "outputs": [],
   "source": [
    "# comparing brown categories with SVD/LSA model\n",
    "svd_topics = []\n",
    "\n",
    "topics_svd = get_topics_terms_weights(H_svd_matrix, feat_names)\n",
    "\n",
    "for row in range(len(df['text'])):\n",
    "    svd_topics.append(topics_svd[np.argmax(W_svd_matrix[row])][2][0]) # looking at the third highest term, as 1st and 2nd will have some matches\n",
    "    \n",
    "df['svd_topics'] = svd_topics"
   ]
  },
  {
   "cell_type": "code",
   "execution_count": 355,
   "id": "60b40810",
   "metadata": {},
   "outputs": [
    {
     "data": {
      "text/plain": [
       "[array([['said', '0.22397736025047624'],\n",
       "        ['mr', '0.12608915527113537'],\n",
       "        ['mrs', '0.11152719316106871'],\n",
       "        ...,\n",
       "        ['construct', '0.0015455651267919238'],\n",
       "        ['eliminated', '0.0015450542316662198'],\n",
       "        ['categories', '0.0013953651788832005']], dtype='<U32'),\n",
       " array([['said', '0.19024532153213256'],\n",
       "        ['state', '-0.1389532649286947'],\n",
       "        ['ll', '0.13349966989263473'],\n",
       "        ...,\n",
       "        ['adult', '-3.862763218736075e-06'],\n",
       "        ['passes', '-3.3123741184474995e-07'],\n",
       "        ['corners', '-2.901183585211835e-07']], dtype='<U32'),\n",
       " array([['mrs', '0.3633021429035793'],\n",
       "        ['mr', '0.20013495033846815'],\n",
       "        ['said', '0.12109364234218305'],\n",
       "        ...,\n",
       "        ['entered', '7.010368109423479e-06'],\n",
       "        ['paying', '-3.3512846223654192e-06'],\n",
       "        ['licensing', '-1.035915215271347e-06']], dtype='<U32'),\n",
       " array([['mrs', '0.42558447116074466'],\n",
       "        ['khrushchev', '-0.1436973823432569'],\n",
       "        ['berlin', '-0.11342204203598245'],\n",
       "        ...,\n",
       "        ['hong', '2.562769902522459e-06'],\n",
       "        ['careful', '8.967737978814557e-07'],\n",
       "        ['feed', '-7.130464562340434e-07']], dtype='<U32'),\n",
       " array([['game', '0.23092578232721506'],\n",
       "        ['league', '0.16464362536821334'],\n",
       "        ['baseball', '0.16279465093088769'],\n",
       "        ...,\n",
       "        ['arranged', '2.8319776771109956e-06'],\n",
       "        ['pleasure', '-2.34786013026669e-06'],\n",
       "        ['difficulties', '1.35855398522607e-06']], dtype='<U32')]"
      ]
     },
     "execution_count": 355,
     "metadata": {},
     "output_type": "execute_result"
    }
   ],
   "source": [
    "# after some attempts, it seems there is a mis-match between what is displayed above and what is in topics_svd\n",
    "\n",
    "topics_svd"
   ]
  },
  {
   "cell_type": "code",
   "execution_count": 351,
   "id": "30a51f30",
   "metadata": {},
   "outputs": [],
   "source": [
    "# need to assign correct topic for word\n",
    "\n",
    "# utilizing what was last printed\n",
    "\n",
    "# Topic1 - mrs - speaking/govt (this one is tought to make sense of)\n",
    "# Topic2 - ll - thoughts\n",
    "# topic3 - said - politics\n",
    "# topic4 - berlin - places\n",
    "# topic5 - baseball - sports\n",
    "\n",
    "df.loc[df['svd_topics'] == \"mrs\", \"svd_topics\"] = \"t1_speaking\"\n",
    "df.loc[df['svd_topics'] == \"ll\", \"svd_topics\"] = \"t2_thoughts\"\n",
    "df.loc[df['svd_topics'] == \"said\", \"svd_topics\"] = \"t3_politics\"\n",
    "df.loc[df['svd_topics'] == \"berlin\", \"svd_topics\"] = \"t4_places\"\n",
    "df.loc[df['svd_topics'] == \"baseball\", \"svd_topics\"] = \"t5_sports\""
   ]
  },
  {
   "cell_type": "code",
   "execution_count": 352,
   "id": "107ca329",
   "metadata": {},
   "outputs": [
    {
     "data": {
      "text/plain": [
       "<AxesSubplot:xlabel='category', ylabel='svd_topics'>"
      ]
     },
     "execution_count": 352,
     "metadata": {},
     "output_type": "execute_result"
    },
    {
     "data": {
      "image/png": "[encoded data removed]",
      "text/plain": [
       "<Figure size 432x288 with 1 Axes>"
      ]
     },
     "metadata": {
      "needs_background": "light"
     },
     "output_type": "display_data"
    }
   ],
   "source": [
    "# viewing just nmf_topics and its corresponding topic via nmf_topics\n",
    "\n",
    "import seaborn as sns\n",
    "\n",
    "sns.histplot(binwidth = 1, x = \"category\", y = \"svd_topics\", data = df, stat = \"count\", multiple = \"dodge\")"
   ]
  },
  {
   "cell_type": "markdown",
   "id": "4d94d56f",
   "metadata": {},
   "source": [
    "### Q: How does your five-topic LSA model compare to the original Brown categories? \n",
    "\n",
    "A: It doesn't compare very well. While editorial, government and hobbies all were in one category, they were the same category of speaking/gov't, which, only makes sense for the government one,. News, again, was split between a few categories; and romance did not have its own category anymore. \n",
    "\n",
    "The 'speaking/gov't' topic seemed to still encapsulate a lot of different topics and categories. Overall, this performed worse than the NMF method."
   ]
  },
  {
   "cell_type": "markdown",
   "id": "ea8b280a",
   "metadata": {},
   "source": [
    "### Q: What is your interpretation of the display topics output? \n",
    "\n",
    "A: For the most part, the answer was written earlier after the display topics function ran:\n",
    "\n",
    "First, there is a lot of overlap between these. If we do the same method as with NMF, there will be duplicates for different topics if we go with first or second highest word; thus, we will go with the third highest. Below is that term, corresponding topic, and what the topic seems to summarize.\n",
    "\n",
    "Topic1 - speaking/govt (this one is tought to make sense of)\n",
    "\n",
    "Topic2 - thoughts\n",
    "\n",
    "topic3 -  politics\n",
    "\n",
    "topic4 - fun\n",
    "\n",
    "topic5 - sports\n",
    "\n",
    "However, when utilizing the rest of the methods to assign the topics to the existing categories, there were some issues and topic-4 seemed more so of a topic around places, thus it was changed for the final comparison."
   ]
  },
  {
   "cell_type": "markdown",
   "id": "b4ab4d29",
   "metadata": {},
   "source": [
    "## Fitting an LDA Model\n",
    "\n",
    "Finally, fit a five-topic LDA model using the count vectors (`count_text_vectors` from above). Display the results using `pyLDAvis.display` and describe what you learn from that visualization. "
   ]
  },
  {
   "cell_type": "code",
   "execution_count": 134,
   "id": "802cb8ff",
   "metadata": {},
   "outputs": [],
   "source": [
    "# fitting LDA model\n",
    "\n",
    "lda_text_model = LatentDirichletAllocation(n_components = 5, random_state = 42)\n",
    "W_lda_text_matrix = lda_text_model.fit_transform(count_text_vectors) # fitting LDA with count_text_vectors\n",
    "H_lda_text_matrix = lda_text_model.components_\n"
   ]
  },
  {
   "cell_type": "code",
   "execution_count": 358,
   "id": "ab18adf5",
   "metadata": {},
   "outputs": [
    {
     "name": "stdout",
     "output_type": "stream",
     "text": [
      "\n",
      "Topic 00\n",
      "  home (0.46)\n",
      "  right (0.35)\n",
      "  game (0.35)\n",
      "  way (0.34)\n",
      "  set (0.34)\n",
      "\n",
      "Topic 01\n",
      "  state (0.89)\n",
      "  development (0.57)\n",
      "  states (0.51)\n",
      "  program (0.46)\n",
      "  use (0.44)\n",
      "\n",
      "Topic 02\n",
      "  said (0.93)\n",
      "  mr (0.73)\n",
      "  president (0.63)\n",
      "  state (0.49)\n",
      "  mrs (0.48)\n",
      "\n",
      "Topic 03\n",
      "  feed (0.90)\n",
      "  general (0.73)\n",
      "  business (0.70)\n",
      "  property (0.69)\n",
      "  shall (0.67)\n",
      "\n",
      "Topic 04\n",
      "  said (1.56)\n",
      "  man (0.62)\n",
      "  little (0.62)\n",
      "  old (0.59)\n",
      "  good (0.53)\n"
     ]
    }
   ],
   "source": [
    "display_topics(lda_text_model, count_text_vectorizer.get_feature_names_out())"
   ]
  },
  {
   "cell_type": "markdown",
   "id": "f2c67876",
   "metadata": {},
   "source": [
    "Q: What inference do you draw from the displayed topics for your LDA model? \n",
    "\n",
    "A: These seems to have similar ways of breaking up topics as the NMF model; between topic01 and topic02, these seem to be similar to that 'government' and 'politics' with state in both, as well as president in topic 2. \n",
    "\n",
    "Below is how I would break them down, and how I will label these new topics when comparing to the original categories:\n",
    "\n",
    "Topic 1 - Sports\n",
    "\n",
    "Topic 2 - Government\n",
    "\n",
    "Topic 3 - Politics\n",
    "\n",
    "Topic 4 - Business\n",
    "\n",
    "Topic 5 - Thoughts"
   ]
  },
  {
   "cell_type": "code",
   "execution_count": 359,
   "id": "cc933313",
   "metadata": {},
   "outputs": [],
   "source": [
    "# Repeating of tallying of brown categories within topics\n",
    "\n",
    "count_feat_names = count_text_vectorizer.get_feature_names_out()\n",
    "lda_topics = []\n",
    "\n",
    "topics_lda  = get_topics_terms_weights(H_lda_text_matrix, count_feat_names)\n",
    "\n",
    "for row in range(len(df['text'])):\n",
    "    lda_topics.append(topics_lda[np.argmax(W_lda_text_matrix[row])][1][0]) # looking at the second highest term, as 1st will have some matches\n",
    "    \n",
    "df['lda_topics'] = lda_topics\n"
   ]
  },
  {
   "cell_type": "code",
   "execution_count": 361,
   "id": "daf00514",
   "metadata": {},
   "outputs": [],
   "source": [
    "# ways to assign, like with last models\n",
    "\n",
    "# Topic 1 - Sports - right\n",
    "# Topic 2 - Government - development\n",
    "# Topic 3 - Politics - mr\n",
    "# Topic 4 - Business - general\n",
    "# Topic 5 - Thoughts - man\n",
    "\n",
    "df.loc[df['lda_topics'] == \"right\", \"lda_topics\"] = \"t1_sports\"\n",
    "df.loc[df['lda_topics'] == \"development\", \"lda_topics\"] = \"t2_govt\"\n",
    "df.loc[df['lda_topics'] == \"mr\", \"lda_topics\"] = \"t3_politics\"\n",
    "df.loc[df['lda_topics'] == \"general\", \"lda_topics\"] = \"t4_business\"\n",
    "df.loc[df['lda_topics'] == \"man\", \"lda_topics\"] = \"t5_thoughts\"\n"
   ]
  },
  {
   "cell_type": "code",
   "execution_count": 362,
   "id": "c76c90d7",
   "metadata": {},
   "outputs": [
    {
     "data": {
      "text/plain": [
       "<AxesSubplot:xlabel='category', ylabel='lda_topics'>"
      ]
     },
     "execution_count": 362,
     "metadata": {},
     "output_type": "execute_result"
    },
    {
     "data": {
      "image/png": "[encoded data removed]",
      "text/plain": [
       "<Figure size 432x288 with 1 Axes>"
      ]
     },
     "metadata": {
      "needs_background": "light"
     },
     "output_type": "display_data"
    }
   ],
   "source": [
    "# viewing just nmf_topics and its corresponding topic via nmf_topics\n",
    "\n",
    "import seaborn as sns\n",
    "\n",
    "sns.histplot(binwidth = 1, x = \"category\", y = \"lda_topics\", data = df, stat = \"count\", multiple = \"dodge\")"
   ]
  },
  {
   "cell_type": "markdown",
   "id": "aab6efcf",
   "metadata": {},
   "source": [
    "### Q: Repeat the tallying of Brown categories within your topics. How does your five-topic LDA model compare to the original Brown categories? \n",
    "\n",
    "A: This is fairly similar to what was seen with NMF, as predicted after seeing the topics it displayed. Like NMF, romance is only within one topic -- thoughts. News is spread around all topics except thoughts, which makes sense as news will cover sports, politics, government, and business. Government seems to be covering business, on top of gov't and politics, which NMF only had covered. Editorial seems to encapsulate most topics, except business; while hobbies seems to be spread among all topics, however, sports and government seem to be most common topics for hobbies."
   ]
  },
  {
   "cell_type": "code",
   "execution_count": 136,
   "id": "6aae75ca",
   "metadata": {},
   "outputs": [
    {
     "name": "stderr",
     "output_type": "stream",
     "text": [
      "C:\\Users\\steph\\miniconda3\\lib\\site-packages\\pyLDAvis\\_prepare.py:246: FutureWarning: In a future version of pandas all arguments of DataFrame.drop except for the argument 'labels' will be keyword-only.\n",
      "  default_term_info = default_term_info.sort_values(\n"
     ]
    }
   ],
   "source": [
    "lda_display = pyLDAvis.sklearn.prepare(lda_text_model, count_text_vectors, count_text_vectorizer, sort_topics=False)"
   ]
  },
  {
   "cell_type": "code",
   "execution_count": 137,
   "id": "2a89fc15",
   "metadata": {},
   "outputs": [
    {
     "data": {
      "text/html": [
       "\n",
       "<link rel=\"stylesheet\" type=\"text/css\" href=\"https://cdn.jsdelivr.net/gh/bmabey/pyLDAvis@3.3.1/pyLDAvis/js/ldavis.v1.0.0.css\">\n",
       "\n",
       "\n",
       "<div id=\"ldavis_el1143230884653778725884485282\"></div>\n",
       "<script type=\"text/javascript\">\n",
       "\n",
       "var ldavis_el1143230884653778725884485282_data = {\"mdsDat\": {\"x\": [-0.08904549103408559, 0.1239364492508881, 0.02550016758922644, 0.15979135455241336, -0.2201824803584425], \"y\": [0.1613561745541381, -0.009252658807315925, -0.04809236794047135, -0.016212399453419853, -0.08779874835293111], \"topics\": [1, 2, 3, 4, 5], \"cluster\": [1, 1, 1, 1, 1], \"Freq\": [17.447275076687003, 24.245910725798385, 32.831236255960874, 7.470347983418953, 18.005229958134784]}, \"tinfo\": {\"Term\": [\"said\", \"government\", \"general\", \"feed\", \"business\", \"united\", \"state\", \"states\", \"shall\", \"property\", \"department\", \"development\", \"act\", \"john\", \"didn\", \"tax\", \"ll\", \"thought\", \"mother\", \"president\", \"little\", \"board\", \"small\", \"local\", \"shelter\", \"don\", \"man\", \"old\", \"kennedy\", \"court\", \"player\", \"baseball\", \"panels\", \"leg\", \"yards\", \"yankees\", \"holes\", \"gallery\", \"vernon\", \"coach\", \"charlie\", \"plastic\", \"hits\", \"ball\", \"pittsburgh\", \"favorite\", \"runs\", \"pitcher\", \"hole\", \"pitching\", \"team\", \"paint\", \"stadium\", \"ruth\", \"willie\", \"bat\", \"homer\", \"amateur\", \"paintings\", \"chest\", \"pieces\", \"games\", \"cooling\", \"drill\", \"roy\", \"clay\", \"game\", \"bob\", \"golf\", \"season\", \"inch\", \"football\", \"playing\", \"hit\", \"frame\", \"piece\", \"league\", \"fig\", \"signs\", \"club\", \"cut\", \"junior\", \"play\", \"green\", \"run\", \"center\", \"home\", \"set\", \"won\", \"right\", \"place\", \"don\", \"second\", \"way\", \"house\", \"ll\", \"good\", \"work\", \"class\", \"mrs\", \"use\", \"left\", \"high\", \"better\", \"best\", \"said\", \"textile\", \"participation\", \"employee\", \"musical\", \"publications\", \"faculty\", \"forests\", \"recreation\", \"inventory\", \"interior\", \"fiscal\", \"producers\", \"imports\", \"creative\", \"designers\", \"maintain\", \"evaluation\", \"academic\", \"depreciation\", \"exceed\", \"coverage\", \"laboratories\", \"curriculum\", \"engineers\", \"expenditures\", \"comprehensive\", \"locations\", \"educated\", \"resources\", \"fishing\", \"rhode\", \"organizations\", \"vehicles\", \"india\", \"development\", \"projects\", \"library\", \"activities\", \"technical\", \"pool\", \"planning\", \"published\", \"import\", \"management\", \"site\", \"island\", \"plant\", \"medical\", \"bridge\", \"state\", \"research\", \"program\", \"industrial\", \"1960\", \"available\", \"corps\", \"system\", \"use\", \"production\", \"states\", \"period\", \"services\", \"important\", \"area\", \"interest\", \"national\", \"united\", \"work\", \"000\", \"service\", \"college\", \"water\", \"company\", \"government\", \"american\", \"business\", \"public\", \"high\", \"kennedy\", \"nuclear\", \"soviet\", \"khrushchev\", \"laos\", \"berlin\", \"congo\", \"republican\", \"moscow\", \"cuba\", \"weapons\", \"senate\", \"castro\", \"sen\", \"charter\", \"troops\", \"hughes\", \"premier\", \"communism\", \"democrats\", \"communists\", \"election\", \"aug\", \"welfare\", \"gen\", \"republicans\", \"katanga\", \"bombs\", \"police\", \"communist\", \"democratic\", \"rayburn\", \"georgia\", \"leader\", \"russia\", \"vote\", \"political\", \"jury\", \"president\", \"committee\", \"mr\", \"mayor\", \"county\", \"party\", \"council\", \"war\", \"mrs\", \"city\", \"meeting\", \"said\", \"east\", \"west\", \"yesterday\", \"nations\", \"000\", \"military\", \"administration\", \"school\", \"state\", \"american\", \"government\", \"public\", \"united\", \"people\", \"week\", \"world\", \"house\", \"states\", \"members\", \"john\", \"national\", \"program\", \"man\", \"home\", \"recommendation\", \"motors\", \"thereof\", \"boats\", \"shelter\", \"feed\", \"cattle\", \"interference\", \"chemical\", \"assessment\", \"catastrophe\", \"boat\", \"tangible\", \"engine\", \"stockholders\", \"conversion\", \"electricity\", \"claim\", \"property\", \"stations\", \"ratio\", \"accommodate\", \"farmers\", \"concrete\", \"battery\", \"pound\", \"blocks\", \"claims\", \"manufactured\", \"63\", \"loans\", \"officer\", \"credit\", \"trust\", \"shall\", \"farm\", \"respect\", \"laws\", \"general\", \"act\", \"business\", \"department\", \"stock\", \"hearing\", \"daily\", \"john\", \"small\", \"government\", \"local\", \"class\", \"board\", \"tax\", \"united\", \"court\", \"policy\", \"service\", \"states\", \"report\", \"head\", \"secretary\", \"pale\", \"smiled\", \"hadn\", \"hair\", \"listening\", \"shoes\", \"loved\", \"hell\", \"sick\", \"liked\", \"mother\", \"stared\", \"heel\", \"wondered\", \"smile\", \"tongue\", \"laughed\", \"handsome\", \"silent\", \"looked\", \"strange\", \"lips\", \"till\", \"dad\", \"dear\", \"fountain\", \"puerto\", \"rico\", \"susan\", \"nodded\", \"wasn\", \"couldn\", \"love\", \"sat\", \"didn\", \"eyes\", \"baby\", \"woman\", \"thought\", \"stood\", \"yes\", \"child\", \"wouldn\", \"knew\", \"alexander\", \"went\", \"father\", \"voice\", \"bed\", \"door\", \"felt\", \"girl\", \"got\", \"know\", \"god\", \"little\", \"said\", \"young\", \"came\", \"ll\", \"away\", \"old\", \"man\", \"boy\", \"come\", \"going\", \"don\", \"let\", \"thing\", \"good\", \"life\", \"way\", \"look\", \"day\", \"asked\", \"people\", \"think\", \"night\"], \"Freq\": [793.0, 274.0, 197.0, 90.0, 207.0, 301.0, 493.0, 334.0, 123.0, 91.0, 155.0, 202.0, 128.0, 165.0, 123.0, 176.0, 165.0, 138.0, 96.0, 298.0, 236.0, 173.0, 207.0, 127.0, 55.0, 175.0, 280.0, 251.0, 131.0, 106.0, 46.9006173827951, 38.320191958750904, 32.601476249193006, 27.83152521145407, 25.92923367532795, 24.965651021853592, 21.162778832210478, 21.155429552015487, 19.254389784454844, 21.947937942988005, 18.280628736886943, 24.504910875563453, 15.442227275155336, 59.068237809240934, 15.429350272859375, 15.429775935704049, 38.066924702019115, 14.482031649232397, 35.292612040869635, 13.535621759504739, 53.265751957112855, 13.516253246233774, 12.582744451574861, 12.582358303937443, 12.582206179585167, 12.580083705056317, 12.579537857165427, 12.577344934489334, 12.576735754565973, 18.818378791886857, 48.98101977616407, 28.516446892422938, 34.18539770126026, 30.685701114865783, 20.296779363910275, 70.92710391222938, 76.42101603091834, 21.85935538465503, 24.0643174934112, 55.75253195087144, 55.415768125311835, 23.176638782391755, 32.95509315449185, 45.295959244571264, 32.176808958136476, 45.65789699624381, 44.08800327041031, 26.85607118011543, 30.029049163988486, 68.2441583715677, 61.473801113996466, 44.515827629215366, 45.179755849484145, 41.741827288632955, 61.56050618593932, 53.24851828557138, 99.24831428743178, 73.1548685480616, 49.90191872032157, 77.17424013092693, 71.06844436634601, 67.4544411843347, 54.795758071219105, 73.85743200897534, 66.50953757158298, 58.07101352684932, 68.45390871103875, 64.72256586429481, 48.05347075701645, 59.56748789008689, 57.07727059133212, 52.3486093573593, 52.823557510266205, 50.68205733687985, 49.369099019371156, 51.04430480221186, 28.305925725072377, 24.42493313016477, 24.416582541428465, 20.544465245197703, 19.577791969757886, 51.22952404642788, 15.703268535408936, 34.95910743832324, 16.499023102025845, 39.41961363149086, 105.71631917016943, 10.843150222887758, 10.843191961881868, 15.36603081390792, 10.837350150282669, 18.966346585386294, 8.909802874473481, 27.529009854898344, 8.85801168016026, 14.160264880449049, 12.377114435979694, 7.945091103923982, 7.94449914617981, 26.498449187642702, 24.6018872704282, 6.979551908378142, 6.977825659837775, 6.961783314860127, 35.520402490741866, 16.499841358692887, 77.51764253547503, 34.38058053559417, 38.77975209703744, 33.56659824328092, 171.0664032609089, 47.60581979772407, 40.7007335765762, 50.99879715314305, 50.7749537021101, 65.62205389309977, 69.98216493822912, 23.882312072832708, 22.226309066144584, 67.03066445066757, 43.60889749862122, 90.07056610828133, 63.127240535933, 76.720741812072, 42.115783775743544, 269.28745480859993, 75.01508583602295, 137.8342923463196, 58.36202478028896, 85.25628829194991, 78.64673686400441, 55.99466247540451, 88.49431784587514, 132.0158601580129, 59.77628464526231, 153.87030346475296, 66.51941709764547, 61.04438701228096, 68.15034258267052, 75.45918600647991, 71.63562137761251, 89.85286077004864, 100.30627971606307, 89.75509366471236, 91.20163096512648, 79.78955096407306, 66.59945264744289, 70.94711198307996, 66.17064226428685, 76.07309911925111, 73.78709559466927, 70.73831575986367, 68.82940026130557, 67.17454331593034, 130.55798857848058, 78.2831623099577, 80.15534955730648, 72.42766617967, 49.97545822375615, 64.3288607521746, 43.14414848886355, 39.23921138129495, 37.287232055420326, 37.2851622918579, 33.38117353053975, 50.48186809847189, 29.47811606604346, 29.472070136194134, 27.524478420994253, 26.54656756146539, 24.598100241185133, 24.597463627420396, 28.366359331598467, 23.621534418463398, 23.62151470727318, 53.851561232574035, 22.634993277198735, 28.289427952000686, 21.667875350260534, 19.717225368697065, 19.71533329535396, 18.73929886285081, 44.956634171554036, 71.0888378692163, 58.6726356497398, 44.72731796352678, 41.01186311970622, 40.961178070026314, 42.754943558007064, 53.260048495564796, 77.66451404222006, 45.99694390738238, 256.68330871272155, 100.13108356008051, 299.58693696212293, 41.667745830182795, 89.54950650704203, 88.2508701003845, 63.24650314300961, 111.54997230255427, 196.81181942003482, 146.6433766566953, 77.42239713159196, 381.8436104074136, 75.45054972154942, 81.9264543905474, 54.335658183830205, 64.87072201972052, 157.17128924834788, 86.05398991963585, 90.41446202544763, 105.34110373746256, 200.51010750114858, 135.26728212749623, 136.36311808125174, 113.67484428167847, 143.1304642852169, 131.39357181060328, 102.3053914648239, 118.03946916863138, 110.80907382496757, 127.51280528548078, 85.81571642208269, 87.78699173276509, 90.85601777434398, 90.58171583241362, 91.80600480969763, 85.06904723383819, 17.178192154388867, 41.10660325194984, 10.842304100261613, 34.163410197619704, 51.60931009286685, 83.87131629281035, 16.961910390036433, 28.586241537893034, 21.55943702441342, 13.892065761848585, 4.315888104638098, 31.35339840756032, 10.914009441186598, 20.29408022906195, 14.36623441443726, 9.08575304066394, 8.384577507961813, 29.567935466297726, 63.98267165592576, 39.57085104384922, 13.31022692981625, 4.413536328938465, 11.81210141428976, 15.434840879722666, 8.54201531896573, 16.214437965845246, 13.141859292913498, 18.565904999623452, 5.376394928937696, 4.116116220725724, 18.870983705821505, 31.161953588731702, 23.437239531388848, 22.324315419680715, 62.11460505547392, 21.88716214046135, 25.33499643395584, 25.16304198726044, 68.3252303067494, 48.3878530173275, 65.54843990630214, 49.311286436946574, 31.930065536053622, 24.89563501926973, 25.29969976318757, 45.592371150113934, 50.878054309151665, 58.51478612185324, 39.127743885722765, 33.699608854183595, 42.051782087077044, 42.15988722908327, 51.06259229250559, 32.48766108442156, 30.139180521217074, 37.846989716115154, 43.12969271026294, 26.44791636101431, 27.32259171713406, 26.950204279622266, 26.223972084815497, 26.223125676036215, 30.807720714277078, 34.295855240737296, 18.509420935971914, 18.506600131978917, 17.546129234809687, 15.616621370254812, 15.616011782791308, 14.652382045426352, 91.65336955100084, 14.640724595512124, 14.616591009698471, 13.687751571357207, 13.684077201385545, 13.681568956662652, 12.722342624999982, 15.422502005302213, 11.760994549566387, 79.59653259438058, 15.325600615889096, 10.79880247809887, 10.79554911739027, 10.790566768128162, 10.790934402604197, 10.789337946981776, 18.78316578048191, 18.78293447851766, 25.066750015052246, 9.830940284581827, 53.62872441597581, 49.065441916510075, 55.02546570060438, 34.6626853755711, 110.38470093345856, 86.73179772095597, 32.36544188429684, 48.68000455264931, 115.39167767292903, 42.39388244533548, 35.80365335589417, 56.41316348295638, 36.29765011663904, 72.90742519564196, 22.679581977802087, 99.56843254895269, 50.257351293165335, 40.32391391324261, 30.457366445791568, 53.59719233693799, 66.88466514659383, 37.33179687081797, 97.33786957462674, 118.80837727344311, 48.24708939329566, 140.00647011714804, 351.1814087885, 87.76999255278082, 100.05581404206985, 99.33034907589818, 79.03211438555665, 131.78047747147548, 140.1614815935644, 58.4427560014845, 102.0823513804332, 81.29417470698675, 95.25692500726004, 74.88672246223308, 64.23603254057312, 119.13152483850286, 82.15193418702755, 100.3424255052585, 70.95953136733552, 99.4509327829325, 68.27580654754769, 87.43700324028727, 69.72423847300375, 68.2954927158183], \"Total\": [793.0, 274.0, 197.0, 90.0, 207.0, 301.0, 493.0, 334.0, 123.0, 91.0, 155.0, 202.0, 128.0, 165.0, 123.0, 176.0, 165.0, 138.0, 96.0, 298.0, 236.0, 173.0, 207.0, 127.0, 55.0, 175.0, 280.0, 251.0, 131.0, 106.0, 47.66435300694076, 39.08449237122965, 33.364527973957664, 28.597992925746382, 26.69131076360637, 25.738143827757202, 21.924682233249253, 21.92481758103477, 20.018096873595074, 22.880883003207956, 19.0650141169457, 25.709666737501696, 16.20480607985349, 61.988572732105325, 16.2043945177815, 16.20489085728513, 40.05825609278073, 15.25155462487227, 37.19065702047359, 14.298157118147188, 56.28168009499062, 14.298523621335814, 13.344838599195493, 13.344843079876602, 13.344839526551361, 13.344862169537445, 13.344899633086346, 13.344939833001613, 13.34493085285659, 20.028426619099207, 52.39496639966854, 30.51959144721899, 37.20925808553476, 33.403609887572294, 21.934628832262838, 81.13903425209904, 88.77109117227326, 23.85932820531367, 26.71492840294428, 66.76963227458809, 67.14937119000083, 25.780980704131263, 39.08730858341469, 57.42506489349283, 38.23781272055415, 60.323709877599484, 59.39162196779933, 31.223974591614837, 36.35442971383612, 110.3909400927505, 97.00956488697169, 64.01392047945932, 66.04973567917793, 61.32170923668709, 117.88826919757679, 93.2339897946935, 264.6635621508043, 168.10523589933337, 87.3255500564, 211.53755012135645, 188.18760422508655, 175.54834026912, 122.20078914070947, 273.01938601456914, 231.7160030213156, 165.25679830440555, 306.47272024823735, 259.65113217108654, 97.21507091062841, 305.4362298384924, 255.68608958646598, 160.69766950684598, 219.2386186722574, 158.86513520952576, 138.31978127631666, 793.1980625140216, 29.066277834701815, 25.188216012781446, 25.187425430065534, 21.310435117003863, 20.34069916976693, 53.31198076178566, 16.46303713004142, 36.73950920168951, 17.419236908303752, 41.64436812342548, 112.46771652014841, 11.6152416150728, 11.615681174914739, 16.46535509565294, 11.615444194120284, 20.34502437893207, 9.676277631083911, 30.047459886281505, 9.6765283428442, 15.489464864639514, 13.557378463278031, 8.707277541875063, 8.70721077462151, 29.05847769758136, 27.139427910242308, 7.7379497988159525, 7.737860506987808, 7.737897552736288, 39.48906554376952, 18.39576337743737, 86.93927376656629, 38.53756413175123, 43.536513612141974, 37.81484319199797, 202.54345953668212, 54.289103915096774, 46.48914175778724, 58.872987834803155, 59.057039593125545, 78.44349545891599, 86.15500553198642, 27.144227761864038, 25.152542211812005, 85.4480242018979, 53.18898347487018, 120.69243365827366, 81.17637891156804, 102.74489704878326, 52.165820481850176, 493.62537576096986, 104.64650009037038, 234.15281293863566, 79.30368946288411, 130.8596511702121, 120.50229372173821, 76.6783733880033, 144.03487318158002, 255.68608958646598, 84.94096130626144, 334.60909347477906, 100.26523677017717, 95.46666258152936, 116.54560425434006, 146.63878947508474, 134.8793417769675, 215.76386447134647, 301.11435465212736, 259.65113217108654, 283.7377340480488, 204.714154872864, 125.01374970261895, 162.35101162081654, 139.20063760686722, 274.29200396195176, 263.62749181320385, 207.05856226204014, 202.12176262528666, 219.2386186722574, 131.74744694320302, 79.04169172167207, 80.99298021478862, 73.18495123391347, 50.73405016321958, 65.35199596575508, 43.90119445536835, 39.99668095319409, 38.04442253897729, 38.044408298428166, 34.13989417338394, 51.70571903782863, 30.235427051212028, 30.234936155226105, 28.283157414718225, 27.30700265152173, 25.354806496723135, 25.354775130552326, 29.258280708044026, 24.378674890125247, 24.37867052707378, 55.591255687245805, 23.40173955469421, 29.257207622704726, 22.426402188945154, 20.47417369574089, 20.474115528689566, 19.49802272108338, 46.82195912250448, 74.13978785883911, 61.45750166124037, 46.813171618447946, 42.91715478224242, 42.89665200500992, 44.867768474782224, 56.46518088300298, 83.75605493543969, 48.757100064066414, 298.00492537405023, 111.16954463300402, 388.9490573137727, 44.816808509298184, 105.29405630331752, 108.99175405552201, 73.93467892099105, 146.94695472971068, 305.4362298384924, 215.50738617088135, 98.072309721709, 793.1980625140216, 95.3091009885525, 106.76662465986617, 62.31593920551764, 79.91343885868757, 283.7377340480488, 123.46464847790241, 133.10411493977057, 172.87352126817868, 493.62537576096986, 263.62749181320385, 274.29200396195176, 202.12176262528666, 301.11435465212736, 265.3833318338331, 188.83148033048104, 255.82115900738123, 231.7160030213156, 334.60909347477906, 141.93088414521418, 165.0858665121466, 215.76386447134647, 234.15281293863566, 280.6051549180669, 264.6635621508043, 17.96112131425939, 43.12194604653751, 11.700075655514418, 36.90569403096415, 55.84550812393367, 90.90616061720593, 19.90878972846613, 34.47677595534099, 26.33573055656876, 17.28202436116522, 5.455801077999396, 39.99891901371444, 14.622982316965341, 28.35111108716315, 20.16763222673976, 12.810231836101352, 11.911588284586065, 42.15346438822941, 91.7592534261623, 56.93288479393976, 19.25248222932819, 6.423512756744697, 17.46977961226726, 22.95942102442482, 12.803104188002482, 24.696805696968674, 20.1384183953574, 28.522111995551153, 8.276134489824846, 6.4416956902979345, 30.45689408364981, 51.788746686224584, 38.81757716815532, 37.01753180641854, 123.83285098432775, 37.98222346660755, 46.37530083851885, 47.48340486956444, 197.37841645995587, 128.93242528505604, 207.05856226204014, 155.23741712836457, 75.70146992373203, 50.324547065276725, 52.307589223057846, 165.0858665121466, 207.43867271064562, 274.29200396195176, 127.82948794710164, 97.21507091062841, 173.0630037424416, 176.2368911946503, 301.11435465212736, 106.26131396540308, 92.75698836431361, 204.714154872864, 334.60909347477906, 88.1620215799037, 132.73249417201146, 121.30035314519785, 26.985718850138312, 26.985740113031238, 31.80415709050134, 35.65690093636523, 19.27195993903883, 19.271928781912674, 18.30775648742035, 16.379241516888623, 16.379216173724885, 15.415029062860144, 96.4589930967567, 15.414880981580339, 15.415264817709462, 14.45071119066924, 14.45076388443409, 14.450863632331524, 13.486300190496232, 16.377042400438693, 12.522303359993156, 84.88269641041093, 16.38286702212013, 11.558146294110987, 11.557949780159582, 11.55763912661066, 11.558162833175265, 11.558051587014758, 20.224026899908388, 20.22403036139819, 26.999578613815146, 10.59389018154444, 57.85865846732311, 53.03037228884843, 59.811568206963294, 37.61195313858662, 123.42688522657299, 97.3911799585761, 35.69498617915269, 54.952476698991525, 138.6983786508941, 48.25759988223432, 40.487324039246474, 66.60739113340793, 41.49620421779661, 89.5336415384979, 25.073035349115045, 135.9457805429061, 62.78202994632656, 49.24574271182141, 35.63708879050527, 69.45977814175697, 90.7952348315136, 45.3878630188567, 145.50569633380385, 189.70420918103278, 62.82940619342612, 236.30079058658131, 793.1980625140216, 135.29814974627874, 161.03398411558877, 165.25679830440555, 122.54615448701324, 251.92407677669948, 280.6051549180669, 81.83629935183652, 184.36189869363696, 132.47185180074922, 175.54834026912, 121.46569418607584, 95.39493602342318, 306.47272024823735, 161.43605560562375, 273.01938601456914, 129.0991508258935, 301.1134031707985, 117.84170377486377, 265.3833318338331, 132.80996956479675, 150.0499610240289], \"Category\": [\"Default\", \"Default\", \"Default\", \"Default\", \"Default\", \"Default\", \"Default\", \"Default\", \"Default\", \"Default\", \"Default\", \"Default\", \"Default\", \"Default\", \"Default\", \"Default\", \"Default\", \"Default\", \"Default\", \"Default\", \"Default\", \"Default\", \"Default\", \"Default\", \"Default\", \"Default\", \"Default\", \"Default\", \"Default\", \"Default\", \"Topic1\", \"Topic1\", \"Topic1\", \"Topic1\", \"Topic1\", \"Topic1\", \"Topic1\", \"Topic1\", \"Topic1\", \"Topic1\", \"Topic1\", \"Topic1\", \"Topic1\", \"Topic1\", \"Topic1\", \"Topic1\", \"Topic1\", \"Topic1\", \"Topic1\", \"Topic1\", \"Topic1\", \"Topic1\", \"Topic1\", \"Topic1\", \"Topic1\", \"Topic1\", \"Topic1\", \"Topic1\", \"Topic1\", \"Topic1\", \"Topic1\", \"Topic1\", \"Topic1\", \"Topic1\", \"Topic1\", \"Topic1\", \"Topic1\", \"Topic1\", \"Topic1\", \"Topic1\", \"Topic1\", \"Topic1\", \"Topic1\", \"Topic1\", \"Topic1\", \"Topic1\", \"Topic1\", \"Topic1\", \"Topic1\", \"Topic1\", \"Topic1\", \"Topic1\", \"Topic1\", \"Topic1\", \"Topic1\", \"Topic1\", \"Topic1\", \"Topic1\", \"Topic1\", \"Topic1\", \"Topic1\", \"Topic1\", \"Topic1\", \"Topic1\", \"Topic1\", \"Topic1\", \"Topic1\", \"Topic1\", \"Topic1\", \"Topic1\", \"Topic1\", \"Topic1\", \"Topic1\", \"Topic1\", \"Topic1\", \"Topic1\", \"Topic2\", \"Topic2\", \"Topic2\", \"Topic2\", \"Topic2\", \"Topic2\", \"Topic2\", \"Topic2\", \"Topic2\", \"Topic2\", \"Topic2\", \"Topic2\", \"Topic2\", \"Topic2\", \"Topic2\", \"Topic2\", \"Topic2\", \"Topic2\", \"Topic2\", \"Topic2\", \"Topic2\", \"Topic2\", \"Topic2\", \"Topic2\", \"Topic2\", \"Topic2\", \"Topic2\", \"Topic2\", \"Topic2\", \"Topic2\", \"Topic2\", \"Topic2\", \"Topic2\", \"Topic2\", \"Topic2\", \"Topic2\", \"Topic2\", \"Topic2\", \"Topic2\", \"Topic2\", \"Topic2\", \"Topic2\", \"Topic2\", \"Topic2\", \"Topic2\", \"Topic2\", \"Topic2\", \"Topic2\", \"Topic2\", \"Topic2\", \"Topic2\", \"Topic2\", \"Topic2\", \"Topic2\", \"Topic2\", \"Topic2\", \"Topic2\", \"Topic2\", \"Topic2\", \"Topic2\", \"Topic2\", \"Topic2\", \"Topic2\", \"Topic2\", \"Topic2\", \"Topic2\", \"Topic2\", \"Topic2\", \"Topic2\", \"Topic2\", \"Topic2\", \"Topic2\", \"Topic2\", \"Topic2\", \"Topic2\", \"Topic2\", \"Topic2\", \"Topic2\", \"Topic3\", \"Topic3\", \"Topic3\", \"Topic3\", \"Topic3\", \"Topic3\", \"Topic3\", \"Topic3\", \"Topic3\", \"Topic3\", \"Topic3\", \"Topic3\", \"Topic3\", \"Topic3\", \"Topic3\", \"Topic3\", \"Topic3\", \"Topic3\", \"Topic3\", \"Topic3\", \"Topic3\", \"Topic3\", \"Topic3\", \"Topic3\", \"Topic3\", \"Topic3\", \"Topic3\", \"Topic3\", \"Topic3\", \"Topic3\", \"Topic3\", \"Topic3\", \"Topic3\", \"Topic3\", \"Topic3\", \"Topic3\", \"Topic3\", \"Topic3\", \"Topic3\", \"Topic3\", \"Topic3\", \"Topic3\", \"Topic3\", \"Topic3\", \"Topic3\", \"Topic3\", \"Topic3\", \"Topic3\", \"Topic3\", \"Topic3\", \"Topic3\", \"Topic3\", \"Topic3\", \"Topic3\", \"Topic3\", \"Topic3\", \"Topic3\", \"Topic3\", \"Topic3\", \"Topic3\", \"Topic3\", \"Topic3\", \"Topic3\", \"Topic3\", \"Topic3\", \"Topic3\", \"Topic3\", \"Topic3\", \"Topic3\", \"Topic3\", \"Topic3\", \"Topic3\", \"Topic3\", \"Topic3\", \"Topic4\", \"Topic4\", \"Topic4\", \"Topic4\", \"Topic4\", \"Topic4\", \"Topic4\", \"Topic4\", \"Topic4\", \"Topic4\", \"Topic4\", \"Topic4\", \"Topic4\", \"Topic4\", \"Topic4\", \"Topic4\", \"Topic4\", \"Topic4\", \"Topic4\", \"Topic4\", \"Topic4\", \"Topic4\", \"Topic4\", \"Topic4\", \"Topic4\", \"Topic4\", \"Topic4\", \"Topic4\", \"Topic4\", \"Topic4\", \"Topic4\", \"Topic4\", \"Topic4\", \"Topic4\", \"Topic4\", \"Topic4\", \"Topic4\", \"Topic4\", \"Topic4\", \"Topic4\", \"Topic4\", \"Topic4\", \"Topic4\", \"Topic4\", \"Topic4\", \"Topic4\", \"Topic4\", \"Topic4\", \"Topic4\", \"Topic4\", \"Topic4\", \"Topic4\", \"Topic4\", \"Topic4\", \"Topic4\", \"Topic4\", \"Topic4\", \"Topic4\", \"Topic4\", \"Topic4\", \"Topic5\", \"Topic5\", \"Topic5\", \"Topic5\", \"Topic5\", \"Topic5\", \"Topic5\", \"Topic5\", \"Topic5\", \"Topic5\", \"Topic5\", \"Topic5\", \"Topic5\", \"Topic5\", \"Topic5\", \"Topic5\", \"Topic5\", \"Topic5\", \"Topic5\", \"Topic5\", \"Topic5\", \"Topic5\", \"Topic5\", \"Topic5\", \"Topic5\", \"Topic5\", \"Topic5\", \"Topic5\", \"Topic5\", \"Topic5\", \"Topic5\", \"Topic5\", \"Topic5\", \"Topic5\", \"Topic5\", \"Topic5\", \"Topic5\", \"Topic5\", \"Topic5\", \"Topic5\", \"Topic5\", \"Topic5\", \"Topic5\", \"Topic5\", \"Topic5\", \"Topic5\", \"Topic5\", \"Topic5\", \"Topic5\", \"Topic5\", \"Topic5\", \"Topic5\", \"Topic5\", \"Topic5\", \"Topic5\", \"Topic5\", \"Topic5\", \"Topic5\", \"Topic5\", \"Topic5\", \"Topic5\", \"Topic5\", \"Topic5\", \"Topic5\", \"Topic5\", \"Topic5\", \"Topic5\", \"Topic5\", \"Topic5\", \"Topic5\", \"Topic5\", \"Topic5\", \"Topic5\", \"Topic5\", \"Topic5\", \"Topic5\", \"Topic5\", \"Topic5\"], \"logprob\": [30.0, 29.0, 28.0, 27.0, 26.0, 25.0, 24.0, 23.0, 22.0, 21.0, 20.0, 19.0, 18.0, 17.0, 16.0, 15.0, 14.0, 13.0, 12.0, 11.0, 10.0, 9.0, 8.0, 7.0, 6.0, 5.0, 4.0, 3.0, 2.0, 1.0, -6.1393, -6.3414, -6.503, -6.6612, -6.732, -6.7699, -6.9351, -6.9355, -7.0296, -6.8987, -7.0815, -6.7885, -7.2503, -5.9087, -7.2511, -7.2511, -6.348, -7.3145, -6.4237, -7.382, -6.0121, -7.3835, -7.455, -7.4551, -7.4551, -7.4553, -7.4553, -7.4555, -7.4555, -7.0525, -6.0959, -6.6369, -6.4556, -6.5636, -6.9769, -5.7257, -5.6511, -6.9027, -6.8066, -5.9665, -5.9725, -6.8442, -6.4922, -6.1742, -6.5161, -6.1662, -6.2012, -6.6969, -6.5852, -5.7643, -5.8688, -6.1915, -6.1767, -6.2559, -5.8674, -6.0124, -5.3897, -5.6948, -6.0773, -5.6413, -5.7237, -5.7759, -5.9838, -5.6852, -5.79, -5.9257, -5.7612, -5.8173, -6.1151, -5.9003, -5.943, -6.0294, -6.0204, -6.0618, -6.088, -6.0547, -6.9734, -7.1208, -7.1212, -7.2938, -7.342, -6.3801, -7.5626, -6.7623, -7.5131, -6.6422, -5.6557, -7.9329, -7.9329, -7.5843, -7.9334, -7.3738, -8.1293, -7.0012, -8.1351, -7.666, -7.8006, -8.2439, -8.244, -7.0394, -7.1136, -8.3735, -8.3737, -8.376, -6.7463, -7.5131, -5.9659, -6.7789, -6.6585, -6.8029, -5.1744, -6.4535, -6.6102, -6.3846, -6.389, -6.1325, -6.0682, -7.1433, -7.2152, -6.1113, -6.5412, -5.8158, -6.1713, -5.9763, -6.576, -4.7207, -5.9987, -5.3904, -6.2498, -5.8708, -5.9515, -6.2912, -5.8335, -5.4335, -6.2258, -5.2803, -6.1189, -6.2048, -6.0947, -5.9928, -6.0448, -5.8183, -5.7082, -5.8194, -5.8034, -5.937, -6.1177, -6.0545, -6.1242, -5.9847, -6.0153, -6.0575, -6.0848, -6.1091, -5.7478, -6.2592, -6.2356, -6.337, -6.708, -6.4556, -6.855, -6.9499, -7.0009, -7.001, -7.1116, -6.698, -7.2359, -7.2361, -7.3045, -7.3407, -7.4169, -7.4169, -7.2744, -7.4574, -7.4574, -6.6333, -7.5001, -7.2771, -7.5437, -7.6381, -7.6382, -7.6889, -6.8139, -6.3556, -6.5476, -6.819, -6.9057, -6.9069, -6.8641, -6.6444, -6.2672, -6.791, -5.0717, -6.0131, -4.9172, -6.8898, -6.1248, -6.1394, -6.4725, -5.9051, -5.3373, -5.6316, -6.2703, -4.6746, -6.2961, -6.2137, -6.6244, -6.4472, -5.5622, -6.1646, -6.1152, -5.9624, -5.3187, -5.7123, -5.7043, -5.8862, -5.6558, -5.7414, -5.9916, -5.8486, -5.9118, -5.7714, -6.1674, -6.1447, -6.1103, -6.1133, -6.0999, -6.1761, -6.2955, -5.423, -6.7557, -5.608, -5.1954, -4.7098, -6.3082, -5.7862, -6.0683, -6.5078, -7.6768, -5.6938, -6.7491, -6.1288, -6.4743, -6.9324, -7.0127, -5.7524, -4.9805, -5.461, -6.5506, -7.6545, -6.67, -6.4025, -6.9941, -6.3532, -6.5633, -6.2178, -7.4571, -7.7242, -6.2015, -5.6999, -5.9848, -6.0335, -5.0102, -6.0532, -5.9069, -5.9138, -4.9149, -5.2599, -4.9563, -5.241, -5.6756, -5.9244, -5.9083, -5.3194, -5.2097, -5.0699, -5.4723, -5.6216, -5.4002, -5.3977, -5.2061, -5.6583, -5.7333, -5.5056, -5.3749, -5.864, -5.8314, -5.8451, -6.7522, -6.7522, -6.5911, -6.4838, -7.1006, -7.1007, -7.154, -7.2705, -7.2706, -7.3343, -5.5008, -7.335, -7.3367, -7.4024, -7.4026, -7.4028, -7.4755, -7.283, -7.5541, -5.6419, -7.2893, -7.6394, -7.6397, -7.6402, -7.6401, -7.6403, -7.0859, -7.0859, -6.7973, -7.7333, -6.0368, -6.1257, -6.0111, -6.4732, -5.3149, -5.556, -6.5418, -6.1336, -5.2705, -6.2718, -6.4408, -5.9862, -6.4271, -5.7297, -6.8974, -5.418, -6.1017, -6.3219, -6.6025, -6.0374, -5.8159, -6.399, -5.4407, -5.2413, -6.1425, -5.0772, -4.1576, -5.5441, -5.4131, -5.4204, -5.649, -5.1377, -5.0761, -5.9508, -5.3931, -5.6208, -5.4623, -5.7029, -5.8563, -5.2386, -5.6103, -5.4103, -5.7567, -5.4192, -5.7953, -5.5479, -5.7743, -5.795], \"loglift\": [30.0, 29.0, 28.0, 27.0, 26.0, 25.0, 24.0, 23.0, 22.0, 21.0, 20.0, 19.0, 18.0, 17.0, 16.0, 15.0, 14.0, 13.0, 12.0, 11.0, 10.0, 9.0, 8.0, 7.0, 6.0, 5.0, 4.0, 3.0, 2.0, 1.0, 1.7298, 1.7262, 1.7229, 1.7188, 1.717, 1.7155, 1.7106, 1.7103, 1.7071, 1.7044, 1.704, 1.698, 1.6978, 1.6977, 1.697, 1.697, 1.695, 1.6942, 1.6936, 1.6912, 1.6909, 1.6897, 1.6872, 1.6872, 1.6871, 1.687, 1.6869, 1.6867, 1.6867, 1.6837, 1.6786, 1.6781, 1.6612, 1.6611, 1.6684, 1.6115, 1.5962, 1.6584, 1.6415, 1.5657, 1.5539, 1.6395, 1.5753, 1.5087, 1.5734, 1.4674, 1.448, 1.5953, 1.5548, 1.2651, 1.2898, 1.3827, 1.3662, 1.3614, 1.0963, 1.1858, 0.7652, 0.914, 1.1864, 0.7376, 0.7722, 0.7895, 0.9439, 0.4386, 0.4978, 0.7002, 0.247, 0.3568, 1.0414, 0.1114, 0.2464, 0.6244, 0.3228, 0.6035, 0.7157, -0.9974, 1.3904, 1.3862, 1.3858, 1.3803, 1.3787, 1.3771, 1.3697, 1.3672, 1.3626, 1.362, 1.355, 1.3481, 1.3481, 1.3478, 1.3476, 1.3468, 1.3344, 1.3294, 1.3285, 1.3272, 1.3258, 1.3253, 1.3253, 1.3247, 1.3188, 1.3138, 1.3135, 1.3112, 1.311, 1.3082, 1.3022, 1.3028, 1.3012, 1.2978, 1.248, 1.2856, 1.2839, 1.2733, 1.2658, 1.2385, 1.209, 1.2889, 1.2932, 1.1742, 1.2183, 1.1243, 1.1655, 1.1248, 1.2029, 0.8109, 1.084, 0.887, 1.1103, 0.9885, 0.9902, 1.1026, 0.9298, 0.7559, 1.0656, 0.6401, 1.0066, 0.9697, 0.8804, 0.7525, 0.7841, 0.5409, 0.3177, 0.3547, 0.2819, 0.4747, 0.7872, 0.5891, 0.6732, 0.1344, 0.1436, 0.3429, 0.3397, 0.2341, 1.1047, 1.1041, 1.1034, 1.1034, 1.0987, 1.098, 1.0964, 1.0947, 1.0937, 1.0936, 1.0913, 1.0898, 1.0884, 1.0882, 1.0866, 1.0855, 1.0835, 1.0835, 1.0828, 1.0822, 1.0822, 1.082, 1.0805, 1.0802, 1.0794, 1.0761, 1.076, 1.0741, 1.0731, 1.0718, 1.0674, 1.0682, 1.0684, 1.0676, 1.0656, 1.0554, 1.0383, 1.0555, 0.9645, 1.0092, 0.8527, 1.0409, 0.9518, 0.9027, 0.9576, 0.8382, 0.6743, 0.7288, 0.8774, 0.3827, 0.8801, 0.849, 0.9768, 0.9052, 0.5231, 0.7528, 0.7271, 0.6184, 0.2129, 0.4465, 0.4149, 0.5383, 0.3701, 0.4108, 0.5009, 0.3403, 0.3761, 0.149, 0.6107, 0.4822, 0.2489, 0.1641, -0.0035, -0.0212, 2.5497, 2.5464, 2.5181, 2.517, 2.5153, 2.5137, 2.434, 2.4069, 2.3941, 2.3759, 2.3599, 2.3507, 2.3017, 2.2599, 2.255, 2.2507, 2.2431, 2.2396, 2.2337, 2.2304, 2.2251, 2.2189, 2.2029, 2.1971, 2.1895, 2.1735, 2.1674, 2.1649, 2.1629, 2.1463, 2.1155, 2.0863, 2.0897, 2.0885, 1.9043, 2.043, 1.9896, 1.9592, 1.5334, 1.6142, 1.444, 1.4474, 1.731, 1.8904, 1.8679, 1.3075, 1.1888, 1.0493, 1.4104, 1.5348, 1.1795, 1.1639, 0.8198, 1.4092, 1.4701, 0.9062, 0.5455, 1.3902, 1.0136, 1.0899, 1.6859, 1.6858, 1.6827, 1.6756, 1.6741, 1.674, 1.672, 1.6668, 1.6668, 1.6638, 1.6634, 1.663, 1.6613, 1.6603, 1.66, 1.6598, 1.6562, 1.6545, 1.6518, 1.6502, 1.6478, 1.6466, 1.6463, 1.6458, 1.6458, 1.6457, 1.6406, 1.6406, 1.6402, 1.6398, 1.6386, 1.6368, 1.6311, 1.6328, 1.6028, 1.5986, 1.6166, 1.5933, 1.5305, 1.585, 1.5916, 1.5484, 1.5807, 1.5091, 1.6142, 1.4031, 1.492, 1.5146, 1.5574, 1.4553, 1.4089, 1.5191, 1.3125, 1.2466, 1.4504, 1.1911, 0.8997, 1.2817, 1.2386, 1.2055, 1.2759, 1.0665, 1.0204, 1.3778, 1.1234, 1.2262, 1.1032, 1.2309, 1.319, 0.7696, 1.039, 0.7136, 1.116, 0.6067, 1.1687, 0.6043, 1.0701, 0.9274]}, \"token.table\": {\"Topic\": [1, 2, 3, 4, 5, 1, 2, 3, 2, 4, 2, 3, 3, 4, 2, 3, 4, 5, 2, 3, 4, 2, 3, 4, 3, 5, 1, 1, 2, 3, 4, 5, 1, 2, 3, 4, 5, 1, 2, 3, 4, 5, 3, 4, 3, 1, 2, 3, 4, 5, 1, 2, 3, 5, 3, 5, 1, 5, 1, 1, 1, 4, 1, 3, 5, 3, 1, 2, 3, 4, 5, 1, 2, 3, 4, 5, 1, 3, 4, 1, 2, 3, 4, 5, 1, 2, 4, 5, 3, 4, 5, 1, 3, 3, 1, 3, 5, 1, 2, 1, 2, 3, 4, 5, 1, 2, 3, 5, 3, 2, 4, 2, 4, 5, 1, 2, 3, 5, 1, 3, 2, 3, 4, 1, 3, 1, 2, 3, 5, 1, 2, 3, 4, 5, 3, 4, 5, 2, 3, 4, 5, 1, 2, 3, 4, 5, 1, 3, 4, 5, 1, 2, 3, 5, 1, 1, 2, 3, 4, 5, 1, 2, 3, 4, 5, 1, 2, 3, 3, 2, 3, 5, 3, 1, 2, 3, 4, 5, 2, 3, 4, 5, 3, 1, 3, 4, 1, 2, 5, 1, 2, 3, 1, 3, 5, 1, 2, 3, 4, 2, 3, 1, 3, 4, 5, 2, 3, 2, 3, 2, 3, 4, 5, 3, 2, 1, 2, 3, 5, 5, 2, 3, 4, 1, 2, 3, 4, 5, 5, 2, 3, 3, 1, 2, 3, 4, 2, 2, 1, 2, 3, 4, 1, 2, 3, 5, 1, 2, 3, 4, 5, 1, 2, 3, 5, 1, 2, 3, 1, 2, 3, 4, 2, 1, 3, 2, 3, 4, 2, 1, 2, 3, 4, 5, 1, 2, 3, 2, 2, 5, 2, 3, 1, 2, 3, 5, 2, 3, 1, 3, 4, 5, 3, 4, 2, 3, 5, 1, 1, 4, 5, 2, 3, 4, 5, 1, 4, 2, 3, 2, 5, 1, 3, 2, 5, 1, 3, 5, 1, 1, 2, 3, 4, 5, 1, 5, 3, 1, 2, 3, 4, 5, 2, 3, 2, 3, 5, 3, 5, 1, 2, 3, 5, 1, 2, 1, 2, 3, 4, 5, 1, 3, 5, 2, 3, 4, 5, 1, 3, 5, 5, 1, 5, 5, 1, 2, 3, 4, 5, 3, 4, 5, 5, 5, 1, 2, 3, 4, 5, 1, 3, 5, 1, 1, 5, 1, 1, 2, 3, 4, 5, 1, 1, 2, 3, 4, 5, 3, 1, 2, 1, 2, 3, 4, 5, 2, 1, 2, 4, 2, 3, 1, 2, 3, 4, 1, 2, 3, 4, 5, 1, 3, 4, 1, 2, 2, 1, 2, 3, 4, 5, 1, 2, 3, 4, 5, 1, 2, 3, 4, 3, 5, 3, 2, 3, 3, 1, 3, 4, 5, 1, 2, 3, 4, 5, 2, 3, 5, 2, 3, 4, 1, 3, 1, 2, 3, 5, 1, 2, 3, 4, 5, 1, 1, 2, 3, 4, 5, 2, 5, 1, 2, 3, 4, 5, 5, 5, 5, 1, 2, 3, 4, 5, 1, 2, 3, 5, 2, 3, 4, 1, 2, 3, 4, 2, 1, 2, 3, 4, 5, 1, 3, 5, 2, 3, 5, 5, 2, 3, 1, 2, 3, 5, 1, 2, 3, 4, 2, 4, 1, 3, 1, 2, 3, 4, 1, 2, 3, 4, 5, 1, 2, 3, 5, 1, 2, 3, 4, 3, 3, 5, 2, 4, 1, 2, 3, 4, 5, 1, 3, 5, 2, 1, 2, 3, 4, 5, 2, 3, 1, 3, 4, 5, 5, 3, 2, 3, 4, 5, 1, 2, 3, 5, 2, 3, 4, 1, 1, 5, 1, 2, 1, 3, 5, 1, 2, 3, 4, 5, 1, 2, 3, 4, 5, 1, 2, 3, 1, 2, 4, 1, 1, 1, 1, 2, 3, 4, 5, 2, 3, 4, 1, 2, 3, 4, 5, 1, 4, 1, 2, 3, 4, 5, 1, 1, 2, 4, 5, 2, 3, 1, 2, 3, 4, 2, 3, 4, 2, 5, 1, 4, 3, 1, 2, 3, 4, 5, 2, 1, 2, 3, 4, 1, 2, 3, 1, 2, 3, 2, 3, 4, 5, 1, 2, 3, 4, 2, 2, 3, 2, 5, 2, 4, 3, 5, 4, 2, 4, 1, 2, 3, 4, 5, 3, 3, 1, 2, 3, 4, 2, 4, 1, 2, 3, 4, 5, 2, 3, 4, 5, 2, 5, 1, 2, 3, 4, 5, 1, 5, 1, 2, 3, 4, 5, 1, 2, 2, 3, 1, 1, 2, 3, 4, 5, 2, 3, 5, 1, 2, 3, 5, 1, 2, 4, 1, 2, 3, 4, 5, 2, 3, 4, 5, 3, 2, 3, 1, 2, 3, 4, 5, 2, 3, 4, 5, 1, 2, 3, 4, 5, 1, 2, 3, 4, 5, 3, 4, 5, 5, 1, 3, 5, 1, 2, 3, 1, 2, 3, 4, 5, 5, 5, 3, 1, 5, 1, 2, 3, 4, 5, 2, 3, 4, 5, 3, 4, 1, 2, 3, 4, 5, 3, 4, 3, 5, 5, 3, 5, 1, 2, 3, 4, 5, 3, 4, 2, 3, 4, 5, 1, 2, 2, 3, 4, 2, 4, 1, 2, 3, 4, 5, 1, 2, 3, 4, 5, 1, 2, 3, 4, 5, 5, 5, 3, 3, 4, 2, 3, 4, 5, 1, 2, 3, 4, 5, 1, 2, 3, 4, 1, 2, 3, 5, 2, 3, 4, 2, 3, 4, 5, 1, 3, 5, 1, 2, 3, 4, 5, 1, 2, 3, 4, 5, 3, 1, 2, 3, 5, 3, 1, 3, 5, 1, 2, 3, 4, 5, 1, 1, 2, 3, 5, 1, 2, 3, 5, 5, 1, 2, 3, 4, 5, 1, 2, 3, 4, 5, 2, 3, 5, 1, 1, 1, 3, 5, 1, 3, 5, 1, 2, 3, 5], \"Freq\": [0.08106077281954019, 0.32071870985122425, 0.5533278840290352, 0.04229257712323836, 0.00352438142693653, 0.09934307392498401, 0.6495508679710493, 0.2445367973538068, 0.31047725570338114, 0.6209545114067623, 0.9318591357129561, 0.06656136683663971, 0.1556780593219806, 0.6227122372879224, 0.41106804500747246, 0.17838801953154465, 0.37228804076148453, 0.03878000424598797, 0.8662716446990145, 0.06794287409404035, 0.050957155570530266, 0.2028487249415051, 0.6761624164716836, 0.1202066518171882, 0.07976696766674443, 0.9173201281675609, 0.9741520128739294, 0.11379693291341872, 0.2806991011864328, 0.5120861981103842, 0.015172924388455829, 0.07586462194227915, 0.09547269211724314, 0.5114608506280883, 0.306876510376853, 0.0613753020753706, 0.013638956016749021, 0.04242980065488942, 0.016971920261955768, 0.33943840523911534, 0.025457880392933653, 0.5770452889064961, 0.17359077485976465, 0.8100902826789018, 0.9828329191616174, 0.11618036111684774, 0.6555891805879266, 0.08298597222631982, 0.14937475000737566, 0.008298597222631982, 0.13872324326424756, 0.01632038156049971, 0.19584457872599656, 0.6446550716397387, 0.0840454170494152, 0.8964844485270955, 0.9517883280678041, 0.032264011120942515, 0.9722526172035446, 0.9741576821733935, 0.3124242325348188, 0.7029545232033423, 0.11224261396642797, 0.028060653491606993, 0.8418196047482097, 0.9793120937505331, 0.35425157231932275, 0.18074059812210347, 0.21688871774652416, 0.04337774354930483, 0.20242946989675586, 0.3210270140942918, 0.19513406739064795, 0.15107153604437262, 0.012589294670364385, 0.3210270140942918, 0.29793799504052443, 0.049656332506754074, 0.645532322587803, 0.15601254696920863, 0.11556484960682122, 0.479594125868308, 0.24268618417432455, 0.011556484960682121, 0.07500202690406181, 0.07500202690406181, 0.7750209446753054, 0.07500202690406181, 0.02709608981099211, 0.9212670535737317, 0.05419217962198422, 0.9220712255888419, 0.041912328435856454, 0.9744577833246207, 0.2077317783751728, 0.07331709825006098, 0.7087319497505895, 0.17252676018258603, 0.8051248808520681, 0.014488654645459148, 0.34289815994253314, 0.24147757742431913, 0.31875040220010126, 0.08693192787275489, 0.16766647206976906, 0.06209869335917373, 0.14903686406201694, 0.6209869335917373, 0.9591397518837921, 0.18329114014668088, 0.7331645605867235, 0.050229070357309204, 0.8538941960742564, 0.050229070357309204, 0.5684622112247796, 0.12870842518296896, 0.23596544616877643, 0.06435421259148448, 0.9441377745427906, 0.9899884793424487, 0.07594245375893521, 0.07594245375893521, 0.8353669913482873, 0.9486516520414792, 0.04992903431797259, 0.015013348863898606, 0.030026697727797213, 0.10509344204729024, 0.8407475363783219, 0.134566153463553, 0.11136509252156111, 0.6821111916945618, 0.00928042437679676, 0.06496297063757732, 0.166059898079329, 0.7116852774828385, 0.14233705549656772, 0.14024206905238698, 0.14024206905238698, 0.6661498279988382, 0.07012103452619349, 0.493750604205466, 0.020572941841894416, 0.06171882552568325, 0.34974001131220506, 0.07200529644663045, 0.875041225896317, 0.08627167015879182, 0.012324524308398832, 0.012324524308398832, 0.6159925800329844, 0.13588071618374656, 0.17211557383274564, 0.0634110008857484, 0.9615013545113423, 0.047994720694905325, 0.5359410477597761, 0.26397096382197927, 0.007999120115817554, 0.14398416208471596, 0.11933051327790055, 0.06508937087885484, 0.24408514079570565, 0.01084822847980914, 0.5532596524702662, 0.008995269372571666, 0.08995269372571667, 0.8995269372571667, 0.956994031173606, 0.013488034277950497, 0.9576504337344852, 0.013488034277950497, 0.9844671379165961, 0.028735500560686134, 0.4741357592513212, 0.31609050616754747, 0.13649362766325912, 0.050287125981200734, 0.9046323873891153, 0.17422042113974467, 0.6533265792740425, 0.1306653158548085, 0.9794722110286876, 0.07806259970891663, 0.15612519941783326, 0.7025633973802498, 0.9137510864054993, 0.02687503195310292, 0.02687503195310292, 0.013041486873226434, 0.7303232649006802, 0.24778825059130222, 0.018857118229401653, 0.037714236458803306, 0.9239987932406809, 0.027050905328705948, 0.09467816865047081, 0.8521035178542373, 0.027050905328705948, 0.14245818355396944, 0.8547491013238167, 0.037643050426633476, 0.6305210946461107, 0.3011444034130678, 0.028232287819975107, 0.8851268726106306, 0.07376057271755254, 0.9110037355926924, 0.06073358237284616, 0.15456915237157579, 0.20609220316210103, 0.5925150840910405, 0.02576152539526263, 0.9725476529892222, 0.9187787234136121, 0.6288039748562181, 0.051541309414444104, 0.2680148089551093, 0.051541309414444104, 0.9517514675357241, 0.17205916261253895, 0.3441183252250779, 0.47794211836816375, 0.12619830137034957, 0.2158655155019137, 0.26235962653309514, 0.06642015861597345, 0.3287797851490686, 0.9517083431656477, 0.032542813260197125, 0.9600129911758152, 0.9844669617265116, 0.006441745930190967, 0.3349707883699303, 0.34141253430012125, 0.3156455505793574, 0.9300856341371135, 0.9470150100301957, 0.03456048403642601, 0.8442632528898354, 0.11355587611968546, 0.004937212005203716, 0.04050981267834452, 0.008101962535668902, 0.04861177521401342, 0.8912158789235793, 0.3816612557959097, 0.02848218326835147, 0.02848218326835147, 0.017089309961010882, 0.541161482098678, 0.07198410553220817, 0.057587284425766536, 0.10077774774509143, 0.7774283397478482, 0.9280434092104952, 0.02993688416808049, 0.02993688416808049, 0.07344524213737746, 0.11541395193016458, 0.7869133086147585, 0.01049217744819678, 0.904638495443074, 0.017988440585439556, 0.971375791613736, 0.16790372133563894, 0.08395186066781947, 0.6716148853425558, 0.9528564190348674, 0.035271986234528256, 0.07054397246905651, 0.07054397246905651, 0.705439724690565, 0.07054397246905651, 0.03441336502232646, 0.8947474905804881, 0.03441336502232646, 0.930109732598882, 0.9038401340746268, 0.06456000957675906, 0.9211690122091742, 0.07369352097673394, 0.04107148102837794, 0.010267870257094485, 0.05133935128547242, 0.8933047123672201, 0.956632998272634, 0.03751501954010329, 0.026328105854023, 0.315937270248276, 0.579218328788506, 0.052656211708046, 0.2862085333056523, 0.6869004799335656, 0.031856249339338574, 0.15928124669669286, 0.7964062334834643, 0.9256464688410133, 0.02200070915349446, 0.9240297844467673, 0.05500177288373615, 0.05506896930525454, 0.19824828949891635, 0.011013793861050909, 0.7379241886904108, 0.8647201502415653, 0.12810668892467633, 0.9424926839428652, 0.053348642487331996, 0.8697654819600581, 0.05436034262250363, 0.8921305307952996, 0.07757656789524345, 0.9718741368081786, 0.9517175033513678, 0.8368679514662429, 0.10460849393328037, 0.05230424696664018, 0.9578186875390585, 0.8561345703469039, 0.05632464278598052, 0.022529857114392208, 0.011264928557196104, 0.045059714228784416, 0.9502093122757888, 0.032765838354337544, 0.9809865985032881, 0.03546487060514116, 0.18239076311215455, 0.4205120371752452, 0.34451588587851417, 0.015199230259346214, 0.023300705861651484, 0.9553289403277109, 0.02203232171526875, 0.15422625200688128, 0.8151959034649439, 0.2228255978880289, 0.7639734784732419, 0.05284141426911351, 0.05284141426911351, 0.27175584481258375, 0.6114506508283135, 0.8983741089627976, 0.07486450908023312, 0.22187945453977512, 0.21535358822978173, 0.15988372459483796, 0.013051732619986772, 0.38828904544460646, 0.19243232880563896, 0.13745166343259926, 0.6666405676481064, 0.27707697965027916, 0.4958219635847101, 0.2150992342021904, 0.010937249196721547, 0.684912415567056, 0.13045950772705828, 0.17938182312470513, 0.9747153465437538, 0.028045062070442998, 0.9535321103950619, 0.915916295093563, 0.26368825673269275, 0.030135800769450598, 0.14314505365489036, 0.20341665519379154, 0.35409565904104456, 0.29806527578963155, 0.4967754596493859, 0.19871018385975436, 0.9730614541741511, 0.9768462100947967, 0.24174573038717406, 0.3056030931309559, 0.3056030931309559, 0.013683720587953248, 0.13227596568354807, 0.7836299372662827, 0.13931198884733914, 0.05224199581775218, 0.9256513114741091, 0.9410965765066311, 0.026888473614475175, 0.9578246004474832, 0.37405980330450694, 0.06801087332809216, 0.3211624573826575, 0.022670291109364055, 0.21158938368739785, 0.9741549473904452, 0.28914705556109843, 0.012946883084825304, 0.47903467413853623, 0.017262510779767072, 0.20715012935720487, 0.9860063417652589, 0.0795148253070328, 0.8746630783773608, 0.13728531506930836, 0.5834625890445605, 0.20592797260396253, 0.06864265753465418, 0.008580332191831772, 0.9469956892201582, 0.8190694719147275, 0.02978434443326282, 0.1340295499496827, 0.8991178365429469, 0.10577856900505257, 0.012609753805565657, 0.7313657207228081, 0.20175606088905051, 0.03782926141669697, 0.007414033808480253, 0.5338104342105782, 0.19276487902048658, 0.17052277759504583, 0.09638243951024329, 0.029005032294647737, 0.11602012917859095, 0.8411459365447843, 0.048025701676452495, 0.9365011826908237, 0.9185247370034216, 0.041427617692728846, 0.7456971184691192, 0.11599732953964076, 0.04971314123127461, 0.04971314123127461, 0.14537888982903416, 0.03028726871438212, 0.5330559293731253, 0.2786428721723155, 0.01817236122862927, 0.7029720983022674, 0.015621602184494831, 0.21870243058292763, 0.04686480655348449, 0.943452336983873, 0.041019666825385784, 0.9768431741031642, 0.00759027991207378, 0.9943266684816652, 0.983808812960384, 0.05584493062141438, 0.10052087511854588, 0.022337972248565752, 0.81533598707265, 0.11069865076087962, 0.047442278897519834, 0.1844977512681327, 0.03162818593167989, 0.6272923543116512, 0.9187716782342561, 0.9855314101504212, 0.9639411711420359, 0.04211997866399731, 0.40013979730797444, 0.5264997332999664, 0.023311842609143707, 0.9557855469748919, 0.7408452327477386, 0.016837391653357694, 0.16837391653357694, 0.06734956661343078, 0.3235890113377451, 0.006222865602648944, 0.2364688929006599, 0.018668596807946834, 0.4107091297748303, 0.9790896890107271, 0.0823277721912229, 0.07409499497210062, 0.19758665325893499, 0.024698331657366873, 0.6174582914341717, 0.881926369250132, 0.1075519962500161, 0.04955522463670324, 0.20441530162640087, 0.22919291394475247, 0.01238880615917581, 0.5079410525262082, 0.973076336011582, 0.9517097050073359, 0.9858883092379241, 0.15658009399017686, 0.05924652205033719, 0.1819714605831785, 0.008463788864333884, 0.5924652205033719, 0.350968919857464, 0.0060511882734045515, 0.04235831791383186, 0.5990676390670506, 0.19699973291830117, 0.1641664440985843, 0.6238324875746204, 0.03911460556009658, 0.32856268670481126, 0.32073976559279194, 0.3050939233687533, 0.9046428264865372, 0.1471737023710086, 0.1471737023710086, 0.1316817337003761, 0.023237953005948726, 0.5499648878074532, 0.011780964110340741, 0.047123856441362966, 0.9424771288272593, 0.016719173731405013, 0.05015752119421504, 0.9195545552272758, 0.9831898306255158, 0.933889271701985, 0.04915206693168342, 0.08196570731822694, 0.08909316012850754, 0.3278628292729078, 0.49892169671964226, 0.035109062240123355, 0.7841023900294216, 0.05851510373353892, 0.11703020746707785, 0.24165871186106444, 0.6041467796526611, 0.06693917081082619, 0.9371483913515667, 0.009732843466913985, 0.7494289469523767, 0.22385539973902163, 0.01946568693382797, 0.020393116116824622, 0.050982790292061556, 0.7851349704977479, 0.030589674175236933, 0.11216213864253542, 0.07045682876017788, 0.30296436366876484, 0.6059287273375297, 0.02113704862805336, 0.0161989688923624, 0.2591835022777984, 0.6965556623715832, 0.0161989688923624, 0.9725472889512975, 0.04146839886652823, 0.9537731739301493, 0.02319004803078212, 0.9507919692620669, 0.056562677261490765, 0.08998607746146259, 0.771309235383965, 0.010284123138452866, 0.07455989275378329, 0.1964403503530888, 0.6449791503259749, 0.1604262861216892, 0.9854327180416808, 0.12050210568717734, 0.41712267353253696, 0.4217573699051207, 0.03244287460808621, 0.009269392745167488, 0.17518955760064914, 0.8133800888601568, 0.19326896056544765, 0.29990011122224636, 0.05331557532839935, 0.4531823902913945, 0.9439403116922004, 0.9868209839771629, 0.0579276424312075, 0.2896382121560375, 0.5985856384558108, 0.0579276424312075, 0.18259469515005305, 0.06351119831306193, 0.2302280938848495, 0.5239673860827609, 0.8822560731592084, 0.025948708034094364, 0.07784612410228309, 0.9791220667782535, 0.9741526684057149, 0.963472573933925, 0.9890743853999016, 0.952826511723637, 0.05505003614258296, 0.8074005300912168, 0.13762509035645742, 0.011304402500600217, 0.1356528300072026, 0.4936255758595428, 0.026376939168067173, 0.3278276725174063, 0.10970901136167101, 0.6682276146574506, 0.14960319731136953, 0.05984127892454782, 0.019947092974849274, 0.7625525700149548, 0.1491950680464042, 0.082886148914669, 0.935204340551118, 0.03817160573678032, 0.01908580286839016, 0.9179392097621818, 0.9791471645133366, 0.9256748213294927, 0.3772830856334121, 0.1169046180835925, 0.14878769574275408, 0.09564923297748477, 0.26037846754981964, 0.81248906627963, 0.15089082659478842, 0.03482095998341271, 0.06159427246005765, 0.7760878329967265, 0.08623198144408072, 0.024637708984023062, 0.049275417968046124, 0.9723968908369188, 0.038895875633476754, 0.6813047703714911, 0.030280212016510714, 0.15140106008255358, 0.015140106008255357, 0.1059807420577875, 0.986061847795479, 0.8442638082787408, 0.0511675035320449, 0.02558375176602245, 0.07675125529806735, 0.02135750017173802, 0.9610875077282109, 0.021561717723572186, 0.1940554595121497, 0.45279607219501594, 0.3234257658535828, 0.04775774125325333, 0.9312759544384398, 0.023878870626626664, 0.841369951885518, 0.15297635488827602, 0.32392853141254346, 0.6478570628250869, 0.9860075615450904, 0.016778246177388153, 0.10066947706432891, 0.862401853517751, 0.013422596941910522, 0.010066947706432891, 0.9470315267248149, 0.023545766014924644, 0.7063729804477393, 0.08241018105223626, 0.18836612811939715, 0.02135357648387657, 0.5893587109549934, 0.3886350920065536, 0.018419902482898026, 0.8841553191791053, 0.09209951241449013, 0.07628658406242184, 0.20706358531228786, 0.6974773399992854, 0.010898083437488834, 0.024737563808353954, 0.3413783805552845, 0.5640164548304701, 0.06926517866339106, 0.9832503707506121, 0.8841658790425608, 0.1105207348803201, 0.049446136763422216, 0.9394765985050221, 0.2597067713369069, 0.6752376054759579, 0.9612679176444986, 0.042723018561977716, 0.9464887911259553, 0.9526529003928688, 0.027218654296939107, 0.011342752605708708, 0.2949115677484264, 0.3743108359883874, 0.2949115677484264, 0.022685505211417416, 0.9750809084793699, 0.9768403988953396, 0.07644785055488124, 0.7166985989520115, 0.20067560770656323, 0.009555981319360154, 0.9116447680965696, 0.0759703973413808, 0.043126404871509115, 0.043126404871509115, 0.23719522679330013, 0.539080060893864, 0.12937921461452734, 0.8971779567590084, 0.04600912598764145, 0.04600912598764145, 0.011502281496910363, 0.049446128300356496, 0.9394764377067735, 0.3640015683070266, 0.04254563785406805, 0.21272818927034023, 0.0756366895183432, 0.3025467580733728, 0.9118002475876289, 0.04559001237938145, 0.5259217089368754, 0.11027390671257066, 0.22054781342514132, 0.04241304104329641, 0.11027390671257066, 0.9486184299183291, 0.02496364289258761, 0.044575428375139566, 0.9583717100655007, 0.9741590756959436, 0.06429667747593427, 0.0025214383323895794, 0.4815947214864097, 0.010085753329558318, 0.44251242733437124, 0.02658729251085039, 0.02658729251085039, 0.9305552378797638, 0.08676863807691232, 0.150398972666648, 0.6073804665383862, 0.15618354853844219, 0.838704634012386, 0.13479181618056205, 0.029953736929013784, 0.4500789265498902, 0.16366506419996008, 0.2618641027199361, 0.016366506419996006, 0.11456554493997205, 0.2060999770550934, 0.5358599403432428, 0.22258797521950086, 0.03297599632881494, 0.9591553245263709, 0.01934022035876507, 0.9670110179382536, 0.019539440262370554, 0.3907888052474111, 0.36147964485385525, 0.1856246824925203, 0.03907888052474111, 0.6389665077890982, 0.2513966588022682, 0.08379888626742273, 0.02094972156685568, 0.43425179239339495, 0.2617408063741011, 0.17845964070961437, 0.029743273451602395, 0.09517847504512766, 0.008075401576004736, 0.2907144567361705, 0.12920642521607578, 0.5006748977122937, 0.06460321260803789, 0.07162617253160461, 0.93114024291086, 0.9858899031337285, 0.976847721545234, 0.8252089287645272, 0.16504178575290543, 0.9582901527795729, 0.1504070857789509, 0.8272389717842299, 0.037601771444737725, 0.1735452677631431, 0.23139369035085747, 0.1398003545869764, 0.24585579599778606, 0.21211088282161936, 0.9688069165035877, 0.9634718147843115, 0.9877399224950695, 0.9741594027809163, 0.973085683757397, 0.0202582778176346, 0.5449476732943708, 0.4071913841344555, 0.02430993338116152, 0.00202582778176346, 0.46023853805278503, 0.3825359277321849, 0.1285081632225309, 0.02988561935407695, 0.2985972002214363, 0.7025816475798502, 0.22456631313932499, 0.03962934937752794, 0.2641956625168529, 0.4227130600269647, 0.052839132503370585, 0.2479220140364631, 0.6941816393020966, 0.10361062324280064, 0.8703292352395253, 0.9155906582008518, 0.037037615079233865, 0.9259403769808466, 0.06942763081683231, 0.6109631511881244, 0.25688223402227955, 0.04165657849009939, 0.020828289245049696, 0.20515650877314198, 0.7522405321681872, 0.3744959386914301, 0.35179921513437373, 0.2383155973490919, 0.034045085335584556, 0.9416918597765402, 0.03553554187836001, 0.8635719018658122, 0.10159669433715438, 0.01693278238952573, 0.9633156388043329, 0.9401648607986169, 0.14675831426274508, 0.04193094693221287, 0.12579284079663863, 0.010482736733053218, 0.670895150915406, 0.158120659682512, 0.05270688656083733, 0.22588665668930283, 0.037647776114883805, 0.5270688656083733, 0.03604944808032021, 0.05046922731244829, 0.05767911692851233, 0.021629668848192125, 0.8291373058473648, 0.9517258864442065, 0.9688002292594619, 0.9887573654479935, 0.37819917527760494, 0.5943129897219506, 0.3320997436855125, 0.47490263347028283, 0.16937086927961137, 0.01992598462113075, 0.2229296090850659, 0.5162580420917315, 0.1407976478431995, 0.06648777814817755, 0.05084359505448871, 0.022969225531212684, 0.8957997957172947, 0.04593845106242537, 0.022969225531212684, 0.9491411756060589, 0.060918971565837546, 0.12183794313167509, 0.8122529542111673, 0.01771002916066134, 0.938631545515051, 0.01771002916066134, 0.10888282802069539, 0.7621797961448677, 0.006805176751293462, 0.12249318152328231, 0.01728349786341436, 0.051850493590243074, 0.9333088846243753, 0.24022024630858196, 0.437324038151521, 0.04311645446564292, 0.04927594796073476, 0.22790125931839827, 0.27104302401460656, 0.1025568198974187, 0.2197646140658972, 0.04029017924541449, 0.36627435677649534, 0.9666110806438112, 0.24360344959163419, 0.10591454330071051, 0.5401641708336237, 0.11121027046574604, 0.9570291314565138, 0.13240572769611622, 0.13240572769611622, 0.7355873760895345, 0.09366222854621183, 0.08429600569159064, 0.768030274078937, 0.028098668563863546, 0.028098668563863546, 0.9741593350849026, 0.03639508390049877, 0.018197541950249384, 0.03639508390049877, 0.8916795555622198, 0.5725701122719187, 0.022902804490876744, 0.14886822919069884, 0.2519308493996442, 0.9688104492074922, 0.25033590054662613, 0.3466189392184054, 0.23878193590601263, 0.011553964640613514, 0.15405286187484685, 0.1172694241414738, 0.2501747715018108, 0.4612597349564636, 0.007817961609431587, 0.16026821299334754, 0.024098589710794, 0.096394358843176, 0.867549229588584, 0.9713210155053545, 0.9740997821452451, 0.04939817702106703, 0.04939817702106703, 0.8891671863792066, 0.06418903495633792, 0.8665519719105619, 0.06418903495633792, 0.05912867260196981, 0.07391084075246226, 0.21434143818214055, 0.6504153986216679], \"Term\": [\"000\", \"000\", \"000\", \"000\", \"000\", \"1960\", \"1960\", \"1960\", \"63\", \"63\", \"academic\", \"academic\", \"accommodate\", \"accommodate\", \"act\", \"act\", \"act\", \"act\", \"activities\", \"activities\", \"activities\", \"administration\", \"administration\", \"administration\", \"alexander\", \"alexander\", \"amateur\", \"american\", \"american\", \"american\", \"american\", \"american\", \"area\", \"area\", \"area\", \"area\", \"area\", \"asked\", \"asked\", \"asked\", \"asked\", \"asked\", \"assessment\", \"assessment\", \"aug\", \"available\", \"available\", \"available\", \"available\", \"available\", \"away\", \"away\", \"away\", \"away\", \"baby\", \"baby\", \"ball\", \"ball\", \"baseball\", \"bat\", \"battery\", \"battery\", \"bed\", \"bed\", \"bed\", \"berlin\", \"best\", \"best\", \"best\", \"best\", \"best\", \"better\", \"better\", \"better\", \"better\", \"better\", \"blocks\", \"blocks\", \"blocks\", \"board\", \"board\", \"board\", \"board\", \"board\", \"boat\", \"boat\", \"boat\", \"boat\", \"boats\", \"boats\", \"boats\", \"bob\", \"bob\", \"bombs\", \"boy\", \"boy\", \"boy\", \"bridge\", \"bridge\", \"business\", \"business\", \"business\", \"business\", \"business\", \"came\", \"came\", \"came\", \"came\", \"castro\", \"catastrophe\", \"catastrophe\", \"cattle\", \"cattle\", \"cattle\", \"center\", \"center\", \"center\", \"center\", \"charlie\", \"charter\", \"chemical\", \"chemical\", \"chemical\", \"chest\", \"chest\", \"child\", \"child\", \"child\", \"child\", \"city\", \"city\", \"city\", \"city\", \"city\", \"claim\", \"claim\", \"claim\", \"claims\", \"claims\", \"claims\", \"claims\", \"class\", \"class\", \"class\", \"class\", \"class\", \"clay\", \"clay\", \"clay\", \"clay\", \"club\", \"club\", \"club\", \"club\", \"coach\", \"college\", \"college\", \"college\", \"college\", \"college\", \"come\", \"come\", \"come\", \"come\", \"come\", \"committee\", \"committee\", \"committee\", \"communism\", \"communist\", \"communist\", \"communist\", \"communists\", \"company\", \"company\", \"company\", \"company\", \"company\", \"comprehensive\", \"concrete\", \"concrete\", \"concrete\", \"congo\", \"conversion\", \"conversion\", \"conversion\", \"cooling\", \"cooling\", \"cooling\", \"corps\", \"corps\", \"corps\", \"couldn\", \"couldn\", \"couldn\", \"council\", \"council\", \"council\", \"council\", \"county\", \"county\", \"court\", \"court\", \"court\", \"court\", \"coverage\", \"coverage\", \"creative\", \"creative\", \"credit\", \"credit\", \"credit\", \"credit\", \"cuba\", \"curriculum\", \"cut\", \"cut\", \"cut\", \"cut\", \"dad\", \"daily\", \"daily\", \"daily\", \"day\", \"day\", \"day\", \"day\", \"day\", \"dear\", \"democratic\", \"democratic\", \"democrats\", \"department\", \"department\", \"department\", \"department\", \"depreciation\", \"designers\", \"development\", \"development\", \"development\", \"development\", \"didn\", \"didn\", \"didn\", \"didn\", \"don\", \"don\", \"don\", \"don\", \"don\", \"door\", \"door\", \"door\", \"door\", \"drill\", \"drill\", \"drill\", \"east\", \"east\", \"east\", \"east\", \"educated\", \"election\", \"election\", \"electricity\", \"electricity\", \"electricity\", \"employee\", \"engine\", \"engine\", \"engine\", \"engine\", \"engine\", \"engineers\", \"engineers\", \"engineers\", \"evaluation\", \"exceed\", \"exceed\", \"expenditures\", \"expenditures\", \"eyes\", \"eyes\", \"eyes\", \"eyes\", \"faculty\", \"faculty\", \"farm\", \"farm\", \"farm\", \"farm\", \"farmers\", \"farmers\", \"father\", \"father\", \"father\", \"favorite\", \"feed\", \"feed\", \"feed\", \"felt\", \"felt\", \"felt\", \"felt\", \"fig\", \"fig\", \"fiscal\", \"fiscal\", \"fishing\", \"fishing\", \"football\", \"football\", \"forests\", \"fountain\", \"frame\", \"frame\", \"frame\", \"gallery\", \"game\", \"game\", \"game\", \"game\", \"game\", \"games\", \"games\", \"gen\", \"general\", \"general\", \"general\", \"general\", \"general\", \"georgia\", \"georgia\", \"girl\", \"girl\", \"girl\", \"god\", \"god\", \"going\", \"going\", \"going\", \"going\", \"golf\", \"golf\", \"good\", \"good\", \"good\", \"good\", \"good\", \"got\", \"got\", \"got\", \"government\", \"government\", \"government\", \"government\", \"green\", \"green\", \"green\", \"hadn\", \"hair\", \"hair\", \"handsome\", \"head\", \"head\", \"head\", \"head\", \"head\", \"hearing\", \"hearing\", \"hearing\", \"heel\", \"hell\", \"high\", \"high\", \"high\", \"high\", \"high\", \"hit\", \"hit\", \"hit\", \"hits\", \"hole\", \"hole\", \"holes\", \"home\", \"home\", \"home\", \"home\", \"home\", \"homer\", \"house\", \"house\", \"house\", \"house\", \"house\", \"hughes\", \"import\", \"import\", \"important\", \"important\", \"important\", \"important\", \"important\", \"imports\", \"inch\", \"inch\", \"inch\", \"india\", \"india\", \"industrial\", \"industrial\", \"industrial\", \"industrial\", \"interest\", \"interest\", \"interest\", \"interest\", \"interest\", \"interference\", \"interference\", \"interference\", \"interior\", \"interior\", \"inventory\", \"island\", \"island\", \"island\", \"island\", \"island\", \"john\", \"john\", \"john\", \"john\", \"john\", \"junior\", \"junior\", \"junior\", \"junior\", \"jury\", \"jury\", \"katanga\", \"kennedy\", \"kennedy\", \"khrushchev\", \"knew\", \"knew\", \"knew\", \"knew\", \"know\", \"know\", \"know\", \"know\", \"know\", \"laboratories\", \"laos\", \"laughed\", \"laws\", \"laws\", \"laws\", \"leader\", \"leader\", \"league\", \"league\", \"league\", \"league\", \"left\", \"left\", \"left\", \"left\", \"left\", \"leg\", \"let\", \"let\", \"let\", \"let\", \"let\", \"library\", \"library\", \"life\", \"life\", \"life\", \"life\", \"life\", \"liked\", \"lips\", \"listening\", \"little\", \"little\", \"little\", \"little\", \"little\", \"ll\", \"ll\", \"ll\", \"ll\", \"loans\", \"loans\", \"loans\", \"local\", \"local\", \"local\", \"local\", \"locations\", \"look\", \"look\", \"look\", \"look\", \"look\", \"looked\", \"looked\", \"looked\", \"love\", \"love\", \"love\", \"loved\", \"maintain\", \"maintain\", \"man\", \"man\", \"man\", \"man\", \"management\", \"management\", \"management\", \"management\", \"manufactured\", \"manufactured\", \"mayor\", \"mayor\", \"medical\", \"medical\", \"medical\", \"medical\", \"meeting\", \"meeting\", \"meeting\", \"meeting\", \"meeting\", \"members\", \"members\", \"members\", \"members\", \"military\", \"military\", \"military\", \"military\", \"moscow\", \"mother\", \"mother\", \"motors\", \"motors\", \"mr\", \"mr\", \"mr\", \"mr\", \"mr\", \"mrs\", \"mrs\", \"mrs\", \"musical\", \"national\", \"national\", \"national\", \"national\", \"national\", \"nations\", \"nations\", \"night\", \"night\", \"night\", \"night\", \"nodded\", \"nuclear\", \"officer\", \"officer\", \"officer\", \"officer\", \"old\", \"old\", \"old\", \"old\", \"organizations\", \"organizations\", \"organizations\", \"paint\", \"paintings\", \"pale\", \"panels\", \"participation\", \"party\", \"party\", \"party\", \"people\", \"people\", \"people\", \"people\", \"people\", \"period\", \"period\", \"period\", \"period\", \"period\", \"piece\", \"piece\", \"piece\", \"pieces\", \"pieces\", \"pieces\", \"pitcher\", \"pitching\", \"pittsburgh\", \"place\", \"place\", \"place\", \"place\", \"place\", \"planning\", \"planning\", \"planning\", \"plant\", \"plant\", \"plant\", \"plant\", \"plant\", \"plastic\", \"plastic\", \"play\", \"play\", \"play\", \"play\", \"play\", \"player\", \"playing\", \"playing\", \"playing\", \"playing\", \"police\", \"police\", \"policy\", \"policy\", \"policy\", \"policy\", \"political\", \"political\", \"political\", \"pool\", \"pool\", \"pound\", \"pound\", \"premier\", \"president\", \"president\", \"president\", \"president\", \"president\", \"producers\", \"production\", \"production\", \"production\", \"production\", \"program\", \"program\", \"program\", \"projects\", \"projects\", \"projects\", \"property\", \"property\", \"property\", \"property\", \"public\", \"public\", \"public\", \"public\", \"publications\", \"published\", \"published\", \"puerto\", \"puerto\", \"ratio\", \"ratio\", \"rayburn\", \"rayburn\", \"recommendation\", \"recreation\", \"recreation\", \"report\", \"report\", \"report\", \"report\", \"report\", \"republican\", \"republicans\", \"research\", \"research\", \"research\", \"research\", \"resources\", \"resources\", \"respect\", \"respect\", \"respect\", \"respect\", \"respect\", \"rhode\", \"rhode\", \"rhode\", \"rhode\", \"rico\", \"rico\", \"right\", \"right\", \"right\", \"right\", \"right\", \"roy\", \"roy\", \"run\", \"run\", \"run\", \"run\", \"run\", \"runs\", \"runs\", \"russia\", \"russia\", \"ruth\", \"said\", \"said\", \"said\", \"said\", \"said\", \"sat\", \"sat\", \"sat\", \"school\", \"school\", \"school\", \"school\", \"season\", \"season\", \"season\", \"second\", \"second\", \"second\", \"second\", \"second\", \"secretary\", \"secretary\", \"secretary\", \"secretary\", \"sen\", \"senate\", \"senate\", \"service\", \"service\", \"service\", \"service\", \"service\", \"services\", \"services\", \"services\", \"services\", \"set\", \"set\", \"set\", \"set\", \"set\", \"shall\", \"shall\", \"shall\", \"shall\", \"shall\", \"shelter\", \"shelter\", \"shoes\", \"sick\", \"signs\", \"signs\", \"silent\", \"site\", \"site\", \"site\", \"small\", \"small\", \"small\", \"small\", \"small\", \"smile\", \"smiled\", \"soviet\", \"stadium\", \"stared\", \"state\", \"state\", \"state\", \"state\", \"state\", \"states\", \"states\", \"states\", \"states\", \"stations\", \"stations\", \"stock\", \"stock\", \"stock\", \"stock\", \"stock\", \"stockholders\", \"stockholders\", \"stood\", \"stood\", \"strange\", \"susan\", \"susan\", \"system\", \"system\", \"system\", \"system\", \"system\", \"tangible\", \"tangible\", \"tax\", \"tax\", \"tax\", \"tax\", \"team\", \"team\", \"technical\", \"technical\", \"technical\", \"textile\", \"thereof\", \"thing\", \"thing\", \"thing\", \"thing\", \"thing\", \"think\", \"think\", \"think\", \"think\", \"think\", \"thought\", \"thought\", \"thought\", \"thought\", \"thought\", \"till\", \"tongue\", \"troops\", \"trust\", \"trust\", \"united\", \"united\", \"united\", \"united\", \"use\", \"use\", \"use\", \"use\", \"use\", \"vehicles\", \"vehicles\", \"vehicles\", \"vehicles\", \"vernon\", \"voice\", \"voice\", \"voice\", \"vote\", \"vote\", \"vote\", \"war\", \"war\", \"war\", \"war\", \"wasn\", \"wasn\", \"wasn\", \"water\", \"water\", \"water\", \"water\", \"water\", \"way\", \"way\", \"way\", \"way\", \"way\", \"weapons\", \"week\", \"week\", \"week\", \"week\", \"welfare\", \"went\", \"went\", \"went\", \"west\", \"west\", \"west\", \"west\", \"west\", \"willie\", \"woman\", \"woman\", \"woman\", \"woman\", \"won\", \"won\", \"won\", \"won\", \"wondered\", \"work\", \"work\", \"work\", \"work\", \"work\", \"world\", \"world\", \"world\", \"world\", \"world\", \"wouldn\", \"wouldn\", \"wouldn\", \"yankees\", \"yards\", \"yes\", \"yes\", \"yes\", \"yesterday\", \"yesterday\", \"yesterday\", \"young\", \"young\", \"young\", \"young\"]}, \"R\": 30, \"lambda.step\": 0.01, \"plot.opts\": {\"xlab\": \"PC1\", \"ylab\": \"PC2\"}, \"topic.order\": [1, 2, 3, 4, 5]};\n",
       "\n",
       "function LDAvis_load_lib(url, callback){\n",
       "  var s = document.createElement('script');\n",
       "  s.src = url;\n",
       "  s.async = true;\n",
       "  s.onreadystatechange = s.onload = callback;\n",
       "  s.onerror = function(){console.warn(\"failed to load library \" + url);};\n",
       "  document.getElementsByTagName(\"head\")[0].appendChild(s);\n",
       "}\n",
       "\n",
       "if(typeof(LDAvis) !== \"undefined\"){\n",
       "   // already loaded: just create the visualization\n",
       "   !function(LDAvis){\n",
       "       new LDAvis(\"#\" + \"ldavis_el1143230884653778725884485282\", ldavis_el1143230884653778725884485282_data);\n",
       "   }(LDAvis);\n",
       "}else if(typeof define === \"function\" && define.amd){\n",
       "   // require.js is available: use it to load d3/LDAvis\n",
       "   require.config({paths: {d3: \"https://d3js.org/d3.v5\"}});\n",
       "   require([\"d3\"], function(d3){\n",
       "      window.d3 = d3;\n",
       "      LDAvis_load_lib(\"https://cdn.jsdelivr.net/gh/bmabey/pyLDAvis@3.3.1/pyLDAvis/js/ldavis.v3.0.0.js\", function(){\n",
       "        new LDAvis(\"#\" + \"ldavis_el1143230884653778725884485282\", ldavis_el1143230884653778725884485282_data);\n",
       "      });\n",
       "    });\n",
       "}else{\n",
       "    // require.js not available: dynamically load d3 & LDAvis\n",
       "    LDAvis_load_lib(\"https://d3js.org/d3.v5.js\", function(){\n",
       "         LDAvis_load_lib(\"https://cdn.jsdelivr.net/gh/bmabey/pyLDAvis@3.3.1/pyLDAvis/js/ldavis.v3.0.0.js\", function(){\n",
       "                 new LDAvis(\"#\" + \"ldavis_el1143230884653778725884485282\", ldavis_el1143230884653778725884485282_data);\n",
       "            })\n",
       "         });\n",
       "}\n",
       "</script>"
      ],
      "text/plain": [
       "<IPython.core.display.HTML object>"
      ]
     },
     "execution_count": 137,
     "metadata": {},
     "output_type": "execute_result"
    }
   ],
   "source": [
    "pyLDAvis.display(lda_display)"
   ]
  },
  {
   "cell_type": "markdown",
   "id": "a3d14c87",
   "metadata": {},
   "source": [
    "Q: What conclusions do you draw from the visualization above? Please address the principal component scatterplot and the salient terms graph.\n",
    "\n",
    "A: <!-- Your answer here --> \n"
   ]
  }
 ],
 "metadata": {
  "kernelspec": {
   "display_name": "Python 3 (ipykernel)",
   "language": "python",
   "name": "python3"
  },
  "language_info": {
   "codemirror_mode": {
    "name": "ipython",
    "version": 3
   },
   "file_extension": ".py",
   "mimetype": "text/x-python",
   "name": "python",
   "nbconvert_exporter": "python",
   "pygments_lexer": "ipython3",
   "version": "3.9.1"
  }
 },
 "nbformat": 4,
 "nbformat_minor": 5
}
